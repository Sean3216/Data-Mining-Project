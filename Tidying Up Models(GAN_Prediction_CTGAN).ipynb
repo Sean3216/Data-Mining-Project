{
 "cells": [
  {
   "cell_type": "code",
   "execution_count": 1,
   "id": "7a66ba4b",
   "metadata": {},
   "outputs": [
    {
     "name": "stderr",
     "output_type": "stream",
     "text": [
      "D:\\Sean\\Miniconda3\\lib\\site-packages\\tqdm\\auto.py:22: TqdmWarning: IProgress not found. Please update jupyter and ipywidgets. See https://ipywidgets.readthedocs.io/en/stable/user_install.html\n",
      "  from .autonotebook import tqdm as notebook_tqdm\n"
     ]
    }
   ],
   "source": [
    "import tensorflow as tf\n",
    "import pandas as pd\n",
    "import numpy as np\n",
    "import tensorflow_privacy\n",
    "import matplotlib.pyplot as plt\n",
    "import seaborn as sns\n",
    "from tensorflow_privacy.privacy.analysis import compute_dp_sgd_privacy\n",
    "from tensorflow.keras.regularizers import L1,L2\n",
    "from tensorflow.keras import layers\n",
    "from keras import backend as K\n",
    "from sklearn.ensemble import RandomForestClassifier\n",
    "from sklearn.metrics import accuracy_score\n",
    "tf.random.set_seed(42)\n",
    "\n",
    "from ctgan import CTGANSynthesizer"
   ]
  },
  {
   "cell_type": "markdown",
   "id": "f0dae824",
   "metadata": {},
   "source": [
    "https://github.com/sdv-dev/SDGym/issues/44"
   ]
  },
  {
   "cell_type": "code",
   "execution_count": 2,
   "id": "c72d49f9",
   "metadata": {},
   "outputs": [],
   "source": [
    "train, test = tf.keras.datasets.mnist.load_data()\n",
    "train_data, train_labels = train\n",
    "test_data, test_labels = test\n",
    "\n",
    "train_data = np.array(train_data, dtype=np.float32)/255\n",
    "test_data = np.array(test_data, dtype=np.float32)/255\n",
    "\n",
    "train_data = train_data.reshape(train_data.shape[0],28,28,1) # angka 1 dibelakang menunjukkan color channel. Hanya ada 1 color channel\n",
    "test_data = test_data.reshape(test_data.shape[0],28,28,1)\n",
    "\n",
    "train_labels = np.array(train_labels, dtype = np.int32)\n",
    "test_labels = np.array(test_labels, dtype = np.int32)\n",
    "\n",
    "train_labels = tf.keras.utils.to_categorical(train_labels, num_classes = 10)\n",
    "test_labels = tf.keras.utils.to_categorical(test_labels, num_classes = 10)\n",
    "\n",
    "#check data distribution, normalized since divided by 255\n",
    "assert train_data.min() == 0\n",
    "assert train_data.max() == 1\n",
    "assert test_data.min() == 0\n",
    "assert test_data.max() == 1"
   ]
  },
  {
   "cell_type": "markdown",
   "id": "dc6ad358",
   "metadata": {},
   "source": [
    "## Defining Functions"
   ]
  },
  {
   "cell_type": "code",
   "execution_count": 3,
   "id": "1a2968b0",
   "metadata": {},
   "outputs": [],
   "source": [
    "def dp_sgd(l2_norm_clip,noise_multiplier,num_microbatches,learning_rate):\n",
    "    model = tf.keras.Sequential([\n",
    "        tf.keras.layers.Conv2D(16,8,\n",
    "                              strides = 2,\n",
    "                              padding = 'same',\n",
    "                              activation = 'relu',\n",
    "                              input_shape = (28,28,1)),\n",
    "        tf.keras.layers.MaxPool2D(2,1),\n",
    "        tf.keras.layers.Conv2D(32,4,\n",
    "                               strides = 2,\n",
    "                               padding = 'valid',\n",
    "                               activation = 'relu'),\n",
    "        tf.keras.layers.MaxPool2D(2,1),\n",
    "        tf.keras.layers.Flatten(),\n",
    "        tf.keras.layers.Dense(32, activation = 'relu'),\n",
    "        tf.keras.layers.Dense(10, activation = 'softmax')\n",
    "    ])\n",
    "    \n",
    "    optimizer = tensorflow_privacy.DPKerasSGDOptimizer(\n",
    "        l2_norm_clip = l2_norm_clip,\n",
    "        noise_multiplier = noise_multiplier,\n",
    "        num_microbatches = num_microbatches,\n",
    "        learning_rate = learning_rate)\n",
    "    loss = tf.keras.losses.CategoricalCrossentropy(\n",
    "        from_logits = False, reduction = tf.losses.Reduction.NONE)\n",
    "    model.compile(optimizer = optimizer , loss = loss, metrics = ['accuracy'])\n",
    "    return model\n",
    "\n",
    "def getlayeroutput(model,data,index):\n",
    "    from keras import backend as K\n",
    "    getoutput = K.function([model.layers[0].input],[model.layers[index].output])\n",
    "    return getoutput([data])[0]\n",
    "\n",
    "def discriminatortrue(in_shape):\n",
    "    model = tf.keras.Sequential([\n",
    "        tf.keras.layers.Dense(20,input_dim = in_shape,\n",
    "                              activation = 'linear'),\n",
    "        tf.keras.layers.Dense(30,activation = 'relu'),\n",
    "        tf.keras.layers.Dropout(0.6),\n",
    "        tf.keras.layers.Dense(10,activation = 'linear'),\n",
    "        tf.keras.layers.Dropout(0.6),\n",
    "        tf.keras.layers.Dense(1,activation = 'sigmoid')\n",
    "    ])\n",
    "    optimizer = tf.keras.optimizers.Adam()\n",
    "    model.compile(loss = 'binary_crossentropy', optimizer = optimizer,\n",
    "                 metrics = 'accuracy')\n",
    "    return model\n",
    "\n",
    "\n",
    "def train(distrue, gan, output_noise, output_true):\n",
    "    \n",
    "    ### HUGE NOTE: Normalmodel is 1, DPmodel is 0\n",
    "    \n",
    "    #train the true discriminator to the DPmodel and Normalmodel data\n",
    "    distrue_output_true_train_x = output_true[:] #setting x data from normalmodel for true discriminant\n",
    "    distrue_output_true_train_y = np.ones((output_true.shape[0],1)) #setting y data from normalmodel for true discriminant\n",
    "    \n",
    "    distrue_output_noise_train_x = output_noise[:] #setting x data from DPmodel for true discriminant\n",
    "    distrue_output_noise_train_y = np.zeros((output_noise.shape[0],1)) #setting y data from DPmodel for true discriminant\n",
    "    \n",
    "    #combine\n",
    "    distruex = pd.DataFrame(distrue_output_true_train_x).append(pd.DataFrame(distrue_output_noise_train_x),ignore_index = True).to_numpy()\n",
    "    distruey = pd.DataFrame(distrue_output_true_train_y).append(pd.DataFrame(distrue_output_noise_train_y),ignore_index = True).to_numpy()\n",
    "    \n",
    "    #shuffle\n",
    "    distruex_shuffle, distruey_shuffle = shuffledata(distruex,distruey)\n",
    "    distrue.fit(distruex_shuffle,distruey_shuffle)\n",
    "    \n",
    "    #Initiate GAN\n",
    "    ###########################################################################################################      \n",
    "    ##GAN PART\n",
    "    gan.fit(output_true)\n",
    "    fake = gan.sample(output_true.shape[0])\n",
    "    ########################################################################################################### \n",
    "    #final accuracy of True Discriminant\n",
    "    output_true_upsampled_x = fake[:]\n",
    "    output_true_upsampled_y = np.ones((output_true_upsampled_x.shape[0],1))\n",
    "    \n",
    "    output_noise_x, output_noise_y = output_noise[:], np.zeros((output_noise.shape[0],1))\n",
    "    \n",
    "    distruex_final = pd.DataFrame(output_true_upsampled_x).append(pd.DataFrame(output_noise_x),ignore_index = True).to_numpy()\n",
    "    distruey_final = pd.DataFrame(output_true_upsampled_y).append(pd.DataFrame(output_noise_y),ignore_index = True).to_numpy()\n",
    "    \n",
    "    #shuffle\n",
    "    distruex_final_shuffle, distruey_final_shuffle = shuffledata(distruex_final,distruey_final)\n",
    "    pred = distrue.predict(distruex_final_shuffle)  \n",
    "\n",
    "    fin_acc = accuracy_score(np.array(distruey_final_shuffle), pred)\n",
    "    print(\"Final True Discriminant Accuracy: %.3f\" % fin_acc)\n",
    "    \n",
    "\n",
    "def shuffledata(xdata,ydata):\n",
    "    indices = tf.range(start=0,limit=tf.shape(xdata)[0], dtype = tf.int32)\n",
    "    idx = tf.random.shuffle(indices)\n",
    "    return tf.gather(xdata,idx) , tf.gather(ydata,idx)"
   ]
  },
  {
   "cell_type": "markdown",
   "id": "ad64c14f",
   "metadata": {},
   "source": [
    "## Training Original Model "
   ]
  },
  {
   "cell_type": "markdown",
   "id": "50f5ca23",
   "metadata": {},
   "source": [
    "##### DPmodel & Normalmodel"
   ]
  },
  {
   "cell_type": "code",
   "execution_count": 4,
   "id": "b45a8a3c",
   "metadata": {},
   "outputs": [
    {
     "name": "stdout",
     "output_type": "stream",
     "text": [
      "Epoch 1/5\n",
      "240/240 [==============================] - 27s 95ms/step - loss: 1.2865 - accuracy: 0.6074 - val_loss: 1.2153 - val_accuracy: 0.7280\n",
      "Epoch 2/5\n",
      "240/240 [==============================] - 23s 94ms/step - loss: 1.5425 - accuracy: 0.7012 - val_loss: 1.6375 - val_accuracy: 0.6643\n",
      "Epoch 3/5\n",
      "240/240 [==============================] - 23s 95ms/step - loss: 1.4510 - accuracy: 0.6655 - val_loss: 1.3992 - val_accuracy: 0.6677\n",
      "Epoch 4/5\n",
      "240/240 [==============================] - 23s 96ms/step - loss: 1.4612 - accuracy: 0.6767 - val_loss: 1.4868 - val_accuracy: 0.6951\n",
      "Epoch 5/5\n",
      "240/240 [==============================] - 23s 96ms/step - loss: 1.6511 - accuracy: 0.6505 - val_loss: 1.4497 - val_accuracy: 0.6522\n",
      "Epoch 1/5\n",
      "240/240 [==============================] - 25s 96ms/step - loss: 0.7735 - accuracy: 0.7587 - val_loss: 0.4294 - val_accuracy: 0.8853\n",
      "Epoch 2/5\n",
      "240/240 [==============================] - 23s 95ms/step - loss: 0.4368 - accuracy: 0.8989 - val_loss: 0.4310 - val_accuracy: 0.9082\n",
      "Epoch 3/5\n",
      "240/240 [==============================] - 23s 95ms/step - loss: 0.5186 - accuracy: 0.9027 - val_loss: 0.5711 - val_accuracy: 0.9082\n",
      "Epoch 4/5\n",
      "240/240 [==============================] - 23s 96ms/step - loss: 0.7254 - accuracy: 0.9006 - val_loss: 0.7706 - val_accuracy: 0.9023\n",
      "Epoch 5/5\n",
      "240/240 [==============================] - 23s 96ms/step - loss: 0.8860 - accuracy: 0.8956 - val_loss: 0.8682 - val_accuracy: 0.9003\n"
     ]
    },
    {
     "data": {
      "text/plain": [
       "<keras.callbacks.History at 0x223390b2b80>"
      ]
     },
     "execution_count": 4,
     "metadata": {},
     "output_type": "execute_result"
    }
   ],
   "source": [
    "DPmodel = dp_sgd(l2_norm_clip = 1.5, noise_multiplier = 2, \n",
    "                 num_microbatches = 50, learning_rate = 0.25)\n",
    "Normalmodel = dp_sgd(l2_norm_clip = 1.5, noise_multiplier = 1, \n",
    "                 num_microbatches = 50, learning_rate = 0.25)\n",
    "\n",
    "DPmodel.fit(train_data, train_labels, \n",
    "            epochs = 5, batch_size = 250,\n",
    "            validation_data = (test_data, test_labels))\n",
    "\n",
    "Normalmodel.fit(train_data, train_labels, \n",
    "                epochs = 5, batch_size = 250,\n",
    "                validation_data = (test_data, test_labels))"
   ]
  },
  {
   "cell_type": "markdown",
   "id": "e3e61a36",
   "metadata": {},
   "source": [
    "##### DP Model Privacy"
   ]
  },
  {
   "cell_type": "code",
   "execution_count": 5,
   "id": "34123ba8",
   "metadata": {},
   "outputs": [
    {
     "name": "stdout",
     "output_type": "stream",
     "text": [
      "DP-SGD with sampling rate = 0.417% and noise_multiplier = 2 iterated over 1200 steps satisfies differential privacy with eps = 0.297 and delta = 1e-05.\n",
      "The optimal RDP order is 42.0.\n"
     ]
    },
    {
     "data": {
      "text/plain": [
       "(0.296744767465953, 42.0)"
      ]
     },
     "execution_count": 5,
     "metadata": {},
     "output_type": "execute_result"
    }
   ],
   "source": [
    "compute_dp_sgd_privacy.compute_dp_sgd_privacy(n=train_data.shape[0],\n",
    "                                              batch_size=250,\n",
    "                                              noise_multiplier=2,\n",
    "                                              epochs=5,\n",
    "                                              delta=1e-5)"
   ]
  },
  {
   "cell_type": "markdown",
   "id": "bfd56969",
   "metadata": {},
   "source": [
    "##### Normal Model Privacy"
   ]
  },
  {
   "cell_type": "code",
   "execution_count": 6,
   "id": "890c6f28",
   "metadata": {},
   "outputs": [
    {
     "name": "stdout",
     "output_type": "stream",
     "text": [
      "DP-SGD with sampling rate = 0.417% and noise_multiplier = 1 iterated over 1200 steps satisfies differential privacy with eps = 1.13 and delta = 1e-05.\n",
      "The optimal RDP order is 10.0.\n"
     ]
    },
    {
     "data": {
      "text/plain": [
       "(1.1278495014370558, 10.0)"
      ]
     },
     "execution_count": 6,
     "metadata": {},
     "output_type": "execute_result"
    }
   ],
   "source": [
    "compute_dp_sgd_privacy.compute_dp_sgd_privacy(n=train_data.shape[0],\n",
    "                                              batch_size=250,\n",
    "                                              noise_multiplier=1,\n",
    "                                              epochs=5,\n",
    "                                              delta=1e-5)"
   ]
  },
  {
   "cell_type": "markdown",
   "id": "98d6f7cc",
   "metadata": {},
   "source": [
    "## Proceed with GAN"
   ]
  },
  {
   "cell_type": "code",
   "execution_count": 7,
   "id": "c5f2e1ac",
   "metadata": {},
   "outputs": [
    {
     "name": "stdout",
     "output_type": "stream",
     "text": [
      "1875/1875 [==============================] - 4s 2ms/step\n",
      "1875/1875 [==============================] - 5s 2ms/step\n"
     ]
    }
   ],
   "source": [
    "output_model_noise = DPmodel.predict(train_data)\n",
    "output_model_true = Normalmodel.predict(train_data)"
   ]
  },
  {
   "cell_type": "code",
   "execution_count": 8,
   "id": "ae73ec14",
   "metadata": {},
   "outputs": [
    {
     "name": "stderr",
     "output_type": "stream",
     "text": [
      "C:\\Windows\\Temp\\ipykernel_30344\\2697234886.py:62: FutureWarning: The frame.append method is deprecated and will be removed from pandas in a future version. Use pandas.concat instead.\n",
      "  distruex = pd.DataFrame(distrue_output_true_train_x).append(pd.DataFrame(distrue_output_noise_train_x),ignore_index = True).to_numpy()\n",
      "C:\\Windows\\Temp\\ipykernel_30344\\2697234886.py:63: FutureWarning: The frame.append method is deprecated and will be removed from pandas in a future version. Use pandas.concat instead.\n",
      "  distruey = pd.DataFrame(distrue_output_true_train_y).append(pd.DataFrame(distrue_output_noise_train_y),ignore_index = True).to_numpy()\n",
      "C:\\Windows\\Temp\\ipykernel_30344\\2697234886.py:67: DataConversionWarning: A column-vector y was passed when a 1d array was expected. Please change the shape of y to (n_samples,), for example using ravel().\n",
      "  distrue.fit(distruex_shuffle,distruey_shuffle)\n",
      "D:\\Sean\\Miniconda3\\lib\\site-packages\\sklearn\\mixture\\_base.py:277: ConvergenceWarning: Initialization 1 did not converge. Try different init parameters, or increase max_iter, tol or check for degenerate data.\n",
      "  warnings.warn(\n",
      "D:\\Sean\\Miniconda3\\lib\\site-packages\\sklearn\\mixture\\_base.py:277: ConvergenceWarning: Initialization 1 did not converge. Try different init parameters, or increase max_iter, tol or check for degenerate data.\n",
      "  warnings.warn(\n",
      "D:\\Sean\\Miniconda3\\lib\\site-packages\\sklearn\\mixture\\_base.py:277: ConvergenceWarning: Initialization 1 did not converge. Try different init parameters, or increase max_iter, tol or check for degenerate data.\n",
      "  warnings.warn(\n",
      "D:\\Sean\\Miniconda3\\lib\\site-packages\\sklearn\\mixture\\_base.py:277: ConvergenceWarning: Initialization 1 did not converge. Try different init parameters, or increase max_iter, tol or check for degenerate data.\n",
      "  warnings.warn(\n",
      "D:\\Sean\\Miniconda3\\lib\\site-packages\\sklearn\\mixture\\_base.py:277: ConvergenceWarning: Initialization 1 did not converge. Try different init parameters, or increase max_iter, tol or check for degenerate data.\n",
      "  warnings.warn(\n",
      "D:\\Sean\\Miniconda3\\lib\\site-packages\\sklearn\\mixture\\_base.py:277: ConvergenceWarning: Initialization 1 did not converge. Try different init parameters, or increase max_iter, tol or check for degenerate data.\n",
      "  warnings.warn(\n",
      "D:\\Sean\\Miniconda3\\lib\\site-packages\\sklearn\\mixture\\_base.py:277: ConvergenceWarning: Initialization 1 did not converge. Try different init parameters, or increase max_iter, tol or check for degenerate data.\n",
      "  warnings.warn(\n",
      "D:\\Sean\\Miniconda3\\lib\\site-packages\\sklearn\\mixture\\_base.py:277: ConvergenceWarning: Initialization 1 did not converge. Try different init parameters, or increase max_iter, tol or check for degenerate data.\n",
      "  warnings.warn(\n",
      "D:\\Sean\\Miniconda3\\lib\\site-packages\\sklearn\\mixture\\_base.py:277: ConvergenceWarning: Initialization 1 did not converge. Try different init parameters, or increase max_iter, tol or check for degenerate data.\n",
      "  warnings.warn(\n",
      "D:\\Sean\\Miniconda3\\lib\\site-packages\\ctgan\\data_transformer.py:111: SettingWithCopyWarning: \n",
      "A value is trying to be set on a copy of a slice from a DataFrame.\n",
      "Try using .loc[row_indexer,col_indexer] = value instead\n",
      "\n",
      "See the caveats in the documentation: https://pandas.pydata.org/pandas-docs/stable/user_guide/indexing.html#returning-a-view-versus-a-copy\n",
      "  data[column_name] = data[column_name].to_numpy().flatten()\n",
      "D:\\Sean\\Miniconda3\\lib\\site-packages\\ctgan\\data_transformer.py:111: SettingWithCopyWarning: \n",
      "A value is trying to be set on a copy of a slice from a DataFrame.\n",
      "Try using .loc[row_indexer,col_indexer] = value instead\n",
      "\n",
      "See the caveats in the documentation: https://pandas.pydata.org/pandas-docs/stable/user_guide/indexing.html#returning-a-view-versus-a-copy\n",
      "  data[column_name] = data[column_name].to_numpy().flatten()\n",
      "D:\\Sean\\Miniconda3\\lib\\site-packages\\ctgan\\data_transformer.py:111: SettingWithCopyWarning: \n",
      "A value is trying to be set on a copy of a slice from a DataFrame.\n",
      "Try using .loc[row_indexer,col_indexer] = value instead\n",
      "\n",
      "See the caveats in the documentation: https://pandas.pydata.org/pandas-docs/stable/user_guide/indexing.html#returning-a-view-versus-a-copy\n",
      "  data[column_name] = data[column_name].to_numpy().flatten()\n",
      "D:\\Sean\\Miniconda3\\lib\\site-packages\\ctgan\\data_transformer.py:111: SettingWithCopyWarning: \n",
      "A value is trying to be set on a copy of a slice from a DataFrame.\n",
      "Try using .loc[row_indexer,col_indexer] = value instead\n",
      "\n",
      "See the caveats in the documentation: https://pandas.pydata.org/pandas-docs/stable/user_guide/indexing.html#returning-a-view-versus-a-copy\n",
      "  data[column_name] = data[column_name].to_numpy().flatten()\n",
      "D:\\Sean\\Miniconda3\\lib\\site-packages\\ctgan\\data_transformer.py:111: SettingWithCopyWarning: \n",
      "A value is trying to be set on a copy of a slice from a DataFrame.\n",
      "Try using .loc[row_indexer,col_indexer] = value instead\n",
      "\n",
      "See the caveats in the documentation: https://pandas.pydata.org/pandas-docs/stable/user_guide/indexing.html#returning-a-view-versus-a-copy\n",
      "  data[column_name] = data[column_name].to_numpy().flatten()\n",
      "D:\\Sean\\Miniconda3\\lib\\site-packages\\ctgan\\data_transformer.py:111: SettingWithCopyWarning: \n",
      "A value is trying to be set on a copy of a slice from a DataFrame.\n",
      "Try using .loc[row_indexer,col_indexer] = value instead\n",
      "\n",
      "See the caveats in the documentation: https://pandas.pydata.org/pandas-docs/stable/user_guide/indexing.html#returning-a-view-versus-a-copy\n",
      "  data[column_name] = data[column_name].to_numpy().flatten()\n",
      "D:\\Sean\\Miniconda3\\lib\\site-packages\\ctgan\\data_transformer.py:111: SettingWithCopyWarning: \n",
      "A value is trying to be set on a copy of a slice from a DataFrame.\n",
      "Try using .loc[row_indexer,col_indexer] = value instead\n",
      "\n",
      "See the caveats in the documentation: https://pandas.pydata.org/pandas-docs/stable/user_guide/indexing.html#returning-a-view-versus-a-copy\n",
      "  data[column_name] = data[column_name].to_numpy().flatten()\n",
      "D:\\Sean\\Miniconda3\\lib\\site-packages\\ctgan\\data_transformer.py:111: SettingWithCopyWarning: \n",
      "A value is trying to be set on a copy of a slice from a DataFrame.\n",
      "Try using .loc[row_indexer,col_indexer] = value instead\n",
      "\n",
      "See the caveats in the documentation: https://pandas.pydata.org/pandas-docs/stable/user_guide/indexing.html#returning-a-view-versus-a-copy\n",
      "  data[column_name] = data[column_name].to_numpy().flatten()\n",
      "D:\\Sean\\Miniconda3\\lib\\site-packages\\ctgan\\data_transformer.py:111: SettingWithCopyWarning: \n",
      "A value is trying to be set on a copy of a slice from a DataFrame.\n",
      "Try using .loc[row_indexer,col_indexer] = value instead\n",
      "\n",
      "See the caveats in the documentation: https://pandas.pydata.org/pandas-docs/stable/user_guide/indexing.html#returning-a-view-versus-a-copy\n",
      "  data[column_name] = data[column_name].to_numpy().flatten()\n",
      "D:\\Sean\\Miniconda3\\lib\\site-packages\\ctgan\\data_transformer.py:111: SettingWithCopyWarning: \n",
      "A value is trying to be set on a copy of a slice from a DataFrame.\n",
      "Try using .loc[row_indexer,col_indexer] = value instead\n",
      "\n",
      "See the caveats in the documentation: https://pandas.pydata.org/pandas-docs/stable/user_guide/indexing.html#returning-a-view-versus-a-copy\n",
      "  data[column_name] = data[column_name].to_numpy().flatten()\n"
     ]
    },
    {
     "name": "stdout",
     "output_type": "stream",
     "text": [
      "Epoch 1, Loss G: -0.2057,Loss D:  0.1729\n",
      "Epoch 2, Loss G: -1.3687,Loss D: -0.0649\n",
      "Epoch 3, Loss G: -1.6689,Loss D: -0.1220\n",
      "Epoch 4, Loss G: -0.4486,Loss D: -0.1432\n",
      "Epoch 5, Loss G: -1.6320,Loss D:  0.1323\n",
      "Epoch 6, Loss G: -2.0485,Loss D:  0.1124\n",
      "Epoch 7, Loss G: -1.4736,Loss D:  0.0766\n",
      "Epoch 8, Loss G: -1.7956,Loss D:  0.1847\n",
      "Epoch 9, Loss G: -1.0663,Loss D: -0.0581\n",
      "Epoch 10, Loss G: -1.5376,Loss D: -0.1021\n",
      "Epoch 11, Loss G: -1.2919,Loss D:  0.0435\n",
      "Epoch 12, Loss G: -0.8859,Loss D:  0.0106\n",
      "Epoch 13, Loss G: -0.3846,Loss D:  0.0384\n",
      "Epoch 14, Loss G: -0.6726,Loss D: -0.2208\n",
      "Epoch 15, Loss G: -0.4127,Loss D: -0.0939\n",
      "Epoch 16, Loss G:  0.2002,Loss D: -0.0942\n",
      "Epoch 17, Loss G:  0.1843,Loss D: -0.0035\n",
      "Epoch 18, Loss G: -0.0353,Loss D: -0.4887\n",
      "Epoch 19, Loss G:  0.1064,Loss D: -0.0712\n",
      "Epoch 20, Loss G:  0.1776,Loss D: -0.3272\n",
      "Epoch 21, Loss G:  0.5455,Loss D: -0.5110\n",
      "Epoch 22, Loss G:  0.4645,Loss D: -0.3409\n",
      "Epoch 23, Loss G:  0.6428,Loss D: -0.1372\n",
      "Epoch 24, Loss G:  0.4193,Loss D: -0.2392\n",
      "Epoch 25, Loss G:  0.7026,Loss D: -0.2304\n",
      "Epoch 26, Loss G:  0.3841,Loss D: -0.3348\n",
      "Epoch 27, Loss G:  0.8097,Loss D: -0.5151\n",
      "Epoch 28, Loss G:  0.5808,Loss D: -0.3571\n",
      "Epoch 29, Loss G:  0.4580,Loss D: -0.1524\n",
      "Epoch 30, Loss G:  0.8766,Loss D: -0.5156\n",
      "Epoch 31, Loss G:  0.9374,Loss D: -0.4459\n",
      "Epoch 32, Loss G:  0.2877,Loss D: -0.5316\n",
      "Epoch 33, Loss G:  0.5879,Loss D: -0.1672\n",
      "Epoch 34, Loss G:  0.1478,Loss D: -0.4967\n",
      "Epoch 35, Loss G:  0.7234,Loss D: -0.6195\n",
      "Epoch 36, Loss G:  0.4676,Loss D: -0.2699\n",
      "Epoch 37, Loss G:  0.3489,Loss D: -0.1404\n",
      "Epoch 38, Loss G:  0.4986,Loss D: -0.4978\n",
      "Epoch 39, Loss G:  0.4248,Loss D: -0.6083\n",
      "Epoch 40, Loss G:  0.5224,Loss D: -0.4859\n",
      "Epoch 41, Loss G:  0.3387,Loss D: -0.6691\n",
      "Epoch 42, Loss G:  0.2448,Loss D: -0.0930\n",
      "Epoch 43, Loss G:  0.4083,Loss D: -0.4053\n",
      "Epoch 44, Loss G:  0.0284,Loss D: -0.6980\n",
      "Epoch 45, Loss G:  0.5675,Loss D: -0.2935\n",
      "Epoch 46, Loss G:  0.3134,Loss D: -0.1961\n",
      "Epoch 47, Loss G:  0.4646,Loss D: -0.4128\n",
      "Epoch 48, Loss G:  0.3814,Loss D: -0.4490\n",
      "Epoch 49, Loss G:  0.3674,Loss D: -0.4020\n",
      "Epoch 50, Loss G:  0.3633,Loss D:  0.1278\n"
     ]
    },
    {
     "name": "stderr",
     "output_type": "stream",
     "text": [
      "C:\\Windows\\Temp\\ipykernel_30344\\2697234886.py:81: FutureWarning: The frame.append method is deprecated and will be removed from pandas in a future version. Use pandas.concat instead.\n",
      "  distruex_final = pd.DataFrame(output_true_upsampled_x).append(pd.DataFrame(output_noise_x),ignore_index = True).to_numpy()\n",
      "C:\\Windows\\Temp\\ipykernel_30344\\2697234886.py:82: FutureWarning: The frame.append method is deprecated and will be removed from pandas in a future version. Use pandas.concat instead.\n",
      "  distruey_final = pd.DataFrame(output_true_upsampled_y).append(pd.DataFrame(output_noise_y),ignore_index = True).to_numpy()\n"
     ]
    },
    {
     "name": "stdout",
     "output_type": "stream",
     "text": [
      "Final True Discriminant Accuracy: 0.762\n"
     ]
    }
   ],
   "source": [
    "findisc = RandomForestClassifier(random_state = 42)\n",
    "gan = CTGANSynthesizer(epochs = 50, verbose = True, cuda = True)\n",
    "train(findisc,gan,output_model_noise,output_model_true)"
   ]
  },
  {
   "cell_type": "code",
   "execution_count": 9,
   "id": "ca8b2068",
   "metadata": {},
   "outputs": [
    {
     "data": {
      "image/png": "[encoded data removed]",
      "text/plain": [
       "<Figure size 432x288 with 1 Axes>"
      ]
     },
     "metadata": {
      "needs_background": "light"
     },
     "output_type": "display_data"
    },
    {
     "data": {
      "image/png": "[encoded data removed]",
      "text/plain": [
       "<Figure size 432x288 with 1 Axes>"
      ]
     },
     "metadata": {
      "needs_background": "light"
     },
     "output_type": "display_data"
    }
   ],
   "source": [
    "fake = gan.sample(output_model_true.shape[0])\n",
    "comparenoise = output_model_noise.flatten()\n",
    "comparetrue = output_model_true.flatten()\n",
    "comparefake = fake.flatten()\n",
    "sns.kdeplot(comparenoise)\n",
    "sns.kdeplot(comparetrue)\n",
    "plt.legend(labels = ['comparenoise','comparetrue'])\n",
    "plt.show()\n",
    "sns.kdeplot(comparefake)\n",
    "plt.legend(labels = 'comparefake')\n",
    "plt.show()"
   ]
  },
  {
   "cell_type": "code",
   "execution_count": 10,
   "id": "d92a0c50",
   "metadata": {},
   "outputs": [
    {
     "data": {
      "text/plain": [
       "Ttest_indResult(statistic=-6.58045585974386, pvalue=4.6919968777592975e-11)"
      ]
     },
     "execution_count": 10,
     "metadata": {},
     "output_type": "execute_result"
    }
   ],
   "source": [
    "from scipy.stats import ttest_ind\n",
    "\n",
    "ttest_ind(comparetrue,comparefake)"
   ]
  },
  {
   "cell_type": "code",
   "execution_count": 11,
   "id": "603b9ebf",
   "metadata": {},
   "outputs": [
    {
     "data": {
      "text/plain": [
       "<matplotlib.legend.Legend at 0x224a89b8130>"
      ]
     },
     "execution_count": 11,
     "metadata": {},
     "output_type": "execute_result"
    },
    {
     "data": {
      "image/png": "[encoded data removed]",
      "text/plain": [
       "<Figure size 432x288 with 1 Axes>"
      ]
     },
     "metadata": {
      "needs_background": "light"
     },
     "output_type": "display_data"
    }
   ],
   "source": [
    "sns.kdeplot(comparetrue)\n",
    "sns.kdeplot(comparefake)\n",
    "plt.legend(labels = ['comparetrue','comparefake'])"
   ]
  },
  {
   "cell_type": "code",
   "execution_count": null,
   "id": "9c48a49f",
   "metadata": {},
   "outputs": [],
   "source": []
  }
 ],
 "metadata": {
  "kernelspec": {
   "display_name": "Python 3 (ipykernel)",
   "language": "python",
   "name": "python3"
  },
  "language_info": {
   "codemirror_mode": {
    "name": "ipython",
    "version": 3
   },
   "file_extension": ".py",
   "mimetype": "text/x-python",
   "name": "python",
   "nbconvert_exporter": "python",
   "pygments_lexer": "ipython3",
   "version": "3.9.12"
  }
 },
 "nbformat": 4,
 "nbformat_minor": 5
}
