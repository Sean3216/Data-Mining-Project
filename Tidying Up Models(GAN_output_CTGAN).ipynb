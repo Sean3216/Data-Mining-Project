{
 "cells": [
  {
   "cell_type": "code",
   "execution_count": 1,
   "id": "7a66ba4b",
   "metadata": {},
   "outputs": [
    {
     "name": "stderr",
     "output_type": "stream",
     "text": [
      "D:\\Sean\\Miniconda3\\lib\\site-packages\\tqdm\\auto.py:22: TqdmWarning: IProgress not found. Please update jupyter and ipywidgets. See https://ipywidgets.readthedocs.io/en/stable/user_install.html\n",
      "  from .autonotebook import tqdm as notebook_tqdm\n"
     ]
    }
   ],
   "source": [
    "import tensorflow as tf\n",
    "import pandas as pd\n",
    "import numpy as np\n",
    "import tensorflow_privacy\n",
    "import matplotlib.pyplot as plt\n",
    "import seaborn as sns\n",
    "from tensorflow_privacy.privacy.analysis import compute_dp_sgd_privacy\n",
    "from tensorflow.keras.regularizers import L1,L2\n",
    "from tensorflow.keras import layers\n",
    "from keras import backend as K\n",
    "from sklearn.ensemble import RandomForestClassifier\n",
    "from sklearn.metrics import accuracy_score\n",
    "tf.random.set_seed(42)\n",
    "\n",
    "\n",
    "from ctgan import CTGANSynthesizer"
   ]
  },
  {
   "cell_type": "code",
   "execution_count": 2,
   "id": "c72d49f9",
   "metadata": {},
   "outputs": [],
   "source": [
    "train, test = tf.keras.datasets.mnist.load_data()\n",
    "train_data, train_labels = train\n",
    "test_data, test_labels = test\n",
    "\n",
    "train_data = np.array(train_data, dtype=np.float32)/255\n",
    "test_data = np.array(test_data, dtype=np.float32)/255\n",
    "\n",
    "train_data = train_data.reshape(train_data.shape[0],28,28,1) # angka 1 dibelakang menunjukkan color channel. Hanya ada 1 color channel\n",
    "test_data = test_data.reshape(test_data.shape[0],28,28,1)\n",
    "\n",
    "train_labels = np.array(train_labels, dtype = np.int32)\n",
    "test_labels = np.array(test_labels, dtype = np.int32)\n",
    "\n",
    "train_labels = tf.keras.utils.to_categorical(train_labels, num_classes = 10)\n",
    "test_labels = tf.keras.utils.to_categorical(test_labels, num_classes = 10)\n",
    "\n",
    "#check data distribution, normalized since divided by 255\n",
    "assert train_data.min() == 0\n",
    "assert train_data.max() == 1\n",
    "assert test_data.min() == 0\n",
    "assert test_data.max() == 1"
   ]
  },
  {
   "cell_type": "markdown",
   "id": "dc6ad358",
   "metadata": {},
   "source": [
    "## Defining Functions"
   ]
  },
  {
   "cell_type": "code",
   "execution_count": 3,
   "id": "1a2968b0",
   "metadata": {},
   "outputs": [],
   "source": [
    "def dp_sgd(l2_norm_clip,noise_multiplier,num_microbatches,learning_rate):\n",
    "    model = tf.keras.Sequential([\n",
    "        tf.keras.layers.Conv2D(16,8,\n",
    "                              strides = 2,\n",
    "                              padding = 'same',\n",
    "                              activation = 'relu',\n",
    "                              input_shape = (28,28,1)),\n",
    "        tf.keras.layers.MaxPool2D(2,1),\n",
    "        tf.keras.layers.Conv2D(32,4,\n",
    "                               strides = 2,\n",
    "                               padding = 'valid',\n",
    "                               activation = 'relu'),\n",
    "        tf.keras.layers.MaxPool2D(2,1),\n",
    "        tf.keras.layers.Flatten(),\n",
    "        tf.keras.layers.Dense(32, activation = 'relu'),\n",
    "        tf.keras.layers.Dense(10, activation = 'softmax')\n",
    "    ])\n",
    "    \n",
    "    optimizer = tensorflow_privacy.DPKerasSGDOptimizer(\n",
    "        l2_norm_clip = l2_norm_clip,\n",
    "        noise_multiplier = noise_multiplier,\n",
    "        num_microbatches = num_microbatches,\n",
    "        learning_rate = learning_rate)\n",
    "    loss = tf.keras.losses.CategoricalCrossentropy(\n",
    "        from_logits = False, reduction = tf.losses.Reduction.NONE)\n",
    "    model.compile(optimizer = optimizer , loss = loss, metrics = ['accuracy'])\n",
    "    return model\n",
    "\n",
    "def getlayeroutput(model,data,index):\n",
    "    from keras import backend as K\n",
    "    getoutput = K.function([model.layers[0].input],[model.layers[index].output])\n",
    "    return getoutput([data])[0]\n",
    "\n",
    "def discriminatortrue(in_shape):\n",
    "    model = tf.keras.Sequential([\n",
    "        tf.keras.layers.Dense(in_shape,input_dim = in_shape,\n",
    "                              activation = 'linear',\n",
    "                              kernel_regularizer = L1(0.01),\n",
    "                              bias_regularizer = L2(0.01),\n",
    "                              kernel_initializer = 'uniform'),\n",
    "        tf.keras.layers.Dropout(0.4),\n",
    "        tf.keras.layers.Dense(1,activation = 'sigmoid')\n",
    "    ])\n",
    "    optimizer = tf.keras.optimizers.Adam()\n",
    "    model.compile(loss = 'binary_crossentropy', optimizer = optimizer,\n",
    "                 metrics = 'accuracy')\n",
    "    return model\n",
    "\n",
    "\n",
    "def train(distrue, gan, output_noise, output_true):\n",
    "    \n",
    "    ### HUGE NOTE: Normalmodel is 1, DPmodel is 0\n",
    "    \n",
    "    #train the true discriminator to the DPmodel and Normalmodel data\n",
    "    distrue_output_true_train_x = output_true[:] #setting x data from normalmodel for true discriminant\n",
    "    distrue_output_true_train_y = np.ones((output_true.shape[0],1)) #setting y data from normalmodel for true discriminant\n",
    "    \n",
    "    distrue_output_noise_train_x = output_noise[:] #setting x data from DPmodel for true discriminant\n",
    "    distrue_output_noise_train_y = np.zeros((output_noise.shape[0],1)) #setting y data from DPmodel for true discriminant\n",
    "    \n",
    "    #combine\n",
    "    distruex = pd.DataFrame(distrue_output_true_train_x).append(pd.DataFrame(distrue_output_noise_train_x),ignore_index = True).to_numpy()\n",
    "    distruey = pd.DataFrame(distrue_output_true_train_y).append(pd.DataFrame(distrue_output_noise_train_y),ignore_index = True).to_numpy()\n",
    "    \n",
    "    #shuffle\n",
    "    distruex_shuffle, distruey_shuffle = shuffledata(distruex,distruey)\n",
    "    distrue.fit(distruex_shuffle,distruey_shuffle)\n",
    "    \n",
    "    #Initiate GAN\n",
    "    ###########################################################################################################      \n",
    "    ##GAN PART\n",
    "    gan.fit(output_true)\n",
    "    fake = gan.sample(output_true.shape[0])\n",
    "    ########################################################################################################### \n",
    "    #final accuracy of True Discriminant\n",
    "    output_true_upsampled_x = fake[:]\n",
    "    output_true_upsampled_y = np.ones((output_true_upsampled_x.shape[0],1))\n",
    "    \n",
    "    output_noise_x, output_noise_y = output_noise[:], np.zeros((output_noise.shape[0],1))\n",
    "    \n",
    "    distruex_final = pd.DataFrame(output_true_upsampled_x).append(pd.DataFrame(output_noise_x),ignore_index = True).to_numpy()\n",
    "    distruey_final = pd.DataFrame(output_true_upsampled_y).append(pd.DataFrame(output_noise_y),ignore_index = True).to_numpy()\n",
    "    \n",
    "    #shuffle\n",
    "    distruex_final_shuffle, distruey_final_shuffle = shuffledata(distruex_final,distruey_final)\n",
    "    pred = distrue.predict(distruex_final_shuffle)  \n",
    "\n",
    "    fin_acc = accuracy_score(np.array(distruey_final_shuffle), pred)\n",
    "    print(\"Final True Discriminant Accuracy: %.3f\" % fin_acc)\n",
    "    \n",
    "\n",
    "def shuffledata(xdata,ydata):\n",
    "    indices = tf.range(start=0,limit=tf.shape(xdata)[0], dtype = tf.int32)\n",
    "    idx = tf.random.shuffle(indices)\n",
    "    return tf.gather(xdata,idx) , tf.gather(ydata,idx)"
   ]
  },
  {
   "cell_type": "markdown",
   "id": "ad64c14f",
   "metadata": {},
   "source": [
    "## Training Original Model "
   ]
  },
  {
   "cell_type": "markdown",
   "id": "50f5ca23",
   "metadata": {},
   "source": [
    "##### DPmodel & Normalmodel"
   ]
  },
  {
   "cell_type": "code",
   "execution_count": 4,
   "id": "b45a8a3c",
   "metadata": {},
   "outputs": [
    {
     "name": "stdout",
     "output_type": "stream",
     "text": [
      "Epoch 1/5\n",
      "240/240 [==============================] - 30s 103ms/step - loss: 0.7556 - accuracy: 0.7638 - val_loss: 0.3747 - val_accuracy: 0.9075\n",
      "Epoch 2/5\n",
      "240/240 [==============================] - 25s 105ms/step - loss: 0.4400 - accuracy: 0.8984 - val_loss: 0.4568 - val_accuracy: 0.9074\n",
      "Epoch 3/5\n",
      "240/240 [==============================] - 28s 116ms/step - loss: 0.5471 - accuracy: 0.8924 - val_loss: 0.5489 - val_accuracy: 0.9066\n",
      "Epoch 4/5\n",
      "240/240 [==============================] - 27s 111ms/step - loss: 0.6725 - accuracy: 0.8992 - val_loss: 0.6773 - val_accuracy: 0.9103\n",
      "Epoch 5/5\n",
      "240/240 [==============================] - 24s 102ms/step - loss: 0.7560 - accuracy: 0.9016 - val_loss: 0.7192 - val_accuracy: 0.9179\n",
      "Epoch 1/5\n",
      "240/240 [==============================] - 26s 100ms/step - loss: 0.7736 - accuracy: 0.7579 - val_loss: 0.4246 - val_accuracy: 0.8867\n",
      "Epoch 2/5\n",
      "240/240 [==============================] - 24s 98ms/step - loss: 0.4383 - accuracy: 0.8987 - val_loss: 0.4267 - val_accuracy: 0.9103\n",
      "Epoch 3/5\n",
      "240/240 [==============================] - 23s 97ms/step - loss: 0.5195 - accuracy: 0.9023 - val_loss: 0.5715 - val_accuracy: 0.9067\n",
      "Epoch 4/5\n",
      "240/240 [==============================] - 23s 97ms/step - loss: 0.7217 - accuracy: 0.9010 - val_loss: 0.7703 - val_accuracy: 0.9020\n",
      "Epoch 5/5\n",
      "240/240 [==============================] - 24s 99ms/step - loss: 0.8906 - accuracy: 0.8957 - val_loss: 0.8751 - val_accuracy: 0.8994\n"
     ]
    },
    {
     "data": {
      "text/plain": [
       "<keras.callbacks.History at 0x1817c252d30>"
      ]
     },
     "execution_count": 4,
     "metadata": {},
     "output_type": "execute_result"
    }
   ],
   "source": [
    "DPmodel = dp_sgd(l2_norm_clip = 1.5, noise_multiplier = 1, \n",
    "                 num_microbatches = 50, learning_rate = 0.25)\n",
    "Normalmodel = dp_sgd(l2_norm_clip = 1.5, noise_multiplier = 1, \n",
    "                 num_microbatches = 50, learning_rate = 0.25)\n",
    "\n",
    "DPmodel.fit(train_data, train_labels, \n",
    "            epochs = 5, batch_size = 250,\n",
    "            validation_data = (test_data, test_labels))\n",
    "\n",
    "Normalmodel.fit(train_data, train_labels, \n",
    "                epochs = 5, batch_size = 250,\n",
    "                validation_data = (test_data, test_labels))"
   ]
  },
  {
   "cell_type": "markdown",
   "id": "e3e61a36",
   "metadata": {},
   "source": [
    "##### DP Model Privacy"
   ]
  },
  {
   "cell_type": "code",
   "execution_count": 5,
   "id": "34123ba8",
   "metadata": {},
   "outputs": [
    {
     "name": "stdout",
     "output_type": "stream",
     "text": [
      "DP-SGD with sampling rate = 0.417% and noise_multiplier = 1 iterated over 12000 steps satisfies differential privacy with eps = 2.76 and delta = 1e-05.\n",
      "The optimal RDP order is 8.0.\n"
     ]
    },
    {
     "data": {
      "text/plain": [
       "(2.7580576203970386, 8.0)"
      ]
     },
     "execution_count": 5,
     "metadata": {},
     "output_type": "execute_result"
    }
   ],
   "source": [
    "compute_dp_sgd_privacy.compute_dp_sgd_privacy(n=train_data.shape[0],\n",
    "                                              batch_size=250,\n",
    "                                              noise_multiplier=1,\n",
    "                                              epochs=50,\n",
    "                                              delta=1e-5)"
   ]
  },
  {
   "cell_type": "markdown",
   "id": "bfd56969",
   "metadata": {},
   "source": [
    "##### Normal Model Privacy"
   ]
  },
  {
   "cell_type": "code",
   "execution_count": 6,
   "id": "890c6f28",
   "metadata": {},
   "outputs": [
    {
     "name": "stdout",
     "output_type": "stream",
     "text": [
      "DP-SGD with sampling rate = 0.417% and noise_multiplier = 1 iterated over 12000 steps satisfies differential privacy with eps = 2.76 and delta = 1e-05.\n",
      "The optimal RDP order is 8.0.\n"
     ]
    },
    {
     "data": {
      "text/plain": [
       "(2.7580576203970386, 8.0)"
      ]
     },
     "execution_count": 6,
     "metadata": {},
     "output_type": "execute_result"
    }
   ],
   "source": [
    "compute_dp_sgd_privacy.compute_dp_sgd_privacy(n=train_data.shape[0],\n",
    "                                              batch_size=250,\n",
    "                                              noise_multiplier=1,\n",
    "                                              epochs=50,\n",
    "                                              delta=1e-5)"
   ]
  },
  {
   "cell_type": "markdown",
   "id": "98d6f7cc",
   "metadata": {},
   "source": [
    "## Proceed with GAN"
   ]
  },
  {
   "cell_type": "code",
   "execution_count": 7,
   "id": "c5f2e1ac",
   "metadata": {},
   "outputs": [],
   "source": [
    "output_model_noise = getlayeroutput(DPmodel, train_data, 5)\n",
    "output_model_true = getlayeroutput(Normalmodel, train_data, 5)"
   ]
  },
  {
   "cell_type": "code",
   "execution_count": 8,
   "id": "d821811b",
   "metadata": {},
   "outputs": [
    {
     "name": "stderr",
     "output_type": "stream",
     "text": [
      "C:\\Windows\\Temp\\ipykernel_29936\\1957238936.py:62: FutureWarning: The frame.append method is deprecated and will be removed from pandas in a future version. Use pandas.concat instead.\n",
      "  distruex = pd.DataFrame(distrue_output_true_train_x).append(pd.DataFrame(distrue_output_noise_train_x),ignore_index = True).to_numpy()\n",
      "C:\\Windows\\Temp\\ipykernel_29936\\1957238936.py:63: FutureWarning: The frame.append method is deprecated and will be removed from pandas in a future version. Use pandas.concat instead.\n",
      "  distruey = pd.DataFrame(distrue_output_true_train_y).append(pd.DataFrame(distrue_output_noise_train_y),ignore_index = True).to_numpy()\n",
      "C:\\Windows\\Temp\\ipykernel_29936\\1957238936.py:67: DataConversionWarning: A column-vector y was passed when a 1d array was expected. Please change the shape of y to (n_samples,), for example using ravel().\n",
      "  distrue.fit(distruex_shuffle,distruey_shuffle)\n",
      "D:\\Sean\\Miniconda3\\lib\\site-packages\\sklearn\\mixture\\_base.py:277: ConvergenceWarning: Initialization 1 did not converge. Try different init parameters, or increase max_iter, tol or check for degenerate data.\n",
      "  warnings.warn(\n",
      "D:\\Sean\\Miniconda3\\lib\\site-packages\\sklearn\\mixture\\_base.py:277: ConvergenceWarning: Initialization 1 did not converge. Try different init parameters, or increase max_iter, tol or check for degenerate data.\n",
      "  warnings.warn(\n",
      "D:\\Sean\\Miniconda3\\lib\\site-packages\\sklearn\\mixture\\_base.py:277: ConvergenceWarning: Initialization 1 did not converge. Try different init parameters, or increase max_iter, tol or check for degenerate data.\n",
      "  warnings.warn(\n",
      "D:\\Sean\\Miniconda3\\lib\\site-packages\\sklearn\\mixture\\_base.py:277: ConvergenceWarning: Initialization 1 did not converge. Try different init parameters, or increase max_iter, tol or check for degenerate data.\n",
      "  warnings.warn(\n",
      "D:\\Sean\\Miniconda3\\lib\\site-packages\\sklearn\\mixture\\_base.py:277: ConvergenceWarning: Initialization 1 did not converge. Try different init parameters, or increase max_iter, tol or check for degenerate data.\n",
      "  warnings.warn(\n",
      "D:\\Sean\\Miniconda3\\lib\\site-packages\\sklearn\\mixture\\_base.py:277: ConvergenceWarning: Initialization 1 did not converge. Try different init parameters, or increase max_iter, tol or check for degenerate data.\n",
      "  warnings.warn(\n",
      "D:\\Sean\\Miniconda3\\lib\\site-packages\\sklearn\\mixture\\_base.py:277: ConvergenceWarning: Initialization 1 did not converge. Try different init parameters, or increase max_iter, tol or check for degenerate data.\n",
      "  warnings.warn(\n",
      "D:\\Sean\\Miniconda3\\lib\\site-packages\\sklearn\\mixture\\_base.py:277: ConvergenceWarning: Initialization 1 did not converge. Try different init parameters, or increase max_iter, tol or check for degenerate data.\n",
      "  warnings.warn(\n",
      "D:\\Sean\\Miniconda3\\lib\\site-packages\\sklearn\\mixture\\_base.py:277: ConvergenceWarning: Initialization 1 did not converge. Try different init parameters, or increase max_iter, tol or check for degenerate data.\n",
      "  warnings.warn(\n",
      "D:\\Sean\\Miniconda3\\lib\\site-packages\\sklearn\\mixture\\_base.py:277: ConvergenceWarning: Initialization 1 did not converge. Try different init parameters, or increase max_iter, tol or check for degenerate data.\n",
      "  warnings.warn(\n",
      "D:\\Sean\\Miniconda3\\lib\\site-packages\\sklearn\\mixture\\_base.py:277: ConvergenceWarning: Initialization 1 did not converge. Try different init parameters, or increase max_iter, tol or check for degenerate data.\n",
      "  warnings.warn(\n",
      "D:\\Sean\\Miniconda3\\lib\\site-packages\\sklearn\\mixture\\_base.py:277: ConvergenceWarning: Initialization 1 did not converge. Try different init parameters, or increase max_iter, tol or check for degenerate data.\n",
      "  warnings.warn(\n",
      "D:\\Sean\\Miniconda3\\lib\\site-packages\\sklearn\\mixture\\_base.py:277: ConvergenceWarning: Initialization 1 did not converge. Try different init parameters, or increase max_iter, tol or check for degenerate data.\n",
      "  warnings.warn(\n",
      "D:\\Sean\\Miniconda3\\lib\\site-packages\\sklearn\\mixture\\_base.py:277: ConvergenceWarning: Initialization 1 did not converge. Try different init parameters, or increase max_iter, tol or check for degenerate data.\n",
      "  warnings.warn(\n",
      "D:\\Sean\\Miniconda3\\lib\\site-packages\\sklearn\\mixture\\_base.py:277: ConvergenceWarning: Initialization 1 did not converge. Try different init parameters, or increase max_iter, tol or check for degenerate data.\n",
      "  warnings.warn(\n",
      "D:\\Sean\\Miniconda3\\lib\\site-packages\\sklearn\\mixture\\_base.py:277: ConvergenceWarning: Initialization 1 did not converge. Try different init parameters, or increase max_iter, tol or check for degenerate data.\n",
      "  warnings.warn(\n",
      "D:\\Sean\\Miniconda3\\lib\\site-packages\\sklearn\\mixture\\_base.py:277: ConvergenceWarning: Initialization 1 did not converge. Try different init parameters, or increase max_iter, tol or check for degenerate data.\n",
      "  warnings.warn(\n",
      "D:\\Sean\\Miniconda3\\lib\\site-packages\\sklearn\\mixture\\_base.py:277: ConvergenceWarning: Initialization 1 did not converge. Try different init parameters, or increase max_iter, tol or check for degenerate data.\n",
      "  warnings.warn(\n",
      "D:\\Sean\\Miniconda3\\lib\\site-packages\\sklearn\\mixture\\_base.py:277: ConvergenceWarning: Initialization 1 did not converge. Try different init parameters, or increase max_iter, tol or check for degenerate data.\n",
      "  warnings.warn(\n",
      "D:\\Sean\\Miniconda3\\lib\\site-packages\\sklearn\\mixture\\_base.py:277: ConvergenceWarning: Initialization 1 did not converge. Try different init parameters, or increase max_iter, tol or check for degenerate data.\n",
      "  warnings.warn(\n",
      "D:\\Sean\\Miniconda3\\lib\\site-packages\\sklearn\\mixture\\_base.py:277: ConvergenceWarning: Initialization 1 did not converge. Try different init parameters, or increase max_iter, tol or check for degenerate data.\n",
      "  warnings.warn(\n",
      "D:\\Sean\\Miniconda3\\lib\\site-packages\\sklearn\\mixture\\_base.py:143: ConvergenceWarning: Number of distinct clusters (4) found smaller than n_clusters (10). Possibly due to duplicate points in X.\n",
      "  cluster.KMeans(\n",
      "D:\\Sean\\Miniconda3\\lib\\site-packages\\sklearn\\mixture\\_base.py:277: ConvergenceWarning: Initialization 1 did not converge. Try different init parameters, or increase max_iter, tol or check for degenerate data.\n",
      "  warnings.warn(\n",
      "D:\\Sean\\Miniconda3\\lib\\site-packages\\sklearn\\mixture\\_base.py:277: ConvergenceWarning: Initialization 1 did not converge. Try different init parameters, or increase max_iter, tol or check for degenerate data.\n",
      "  warnings.warn(\n",
      "D:\\Sean\\Miniconda3\\lib\\site-packages\\sklearn\\mixture\\_base.py:277: ConvergenceWarning: Initialization 1 did not converge. Try different init parameters, or increase max_iter, tol or check for degenerate data.\n",
      "  warnings.warn(\n",
      "D:\\Sean\\Miniconda3\\lib\\site-packages\\sklearn\\mixture\\_base.py:277: ConvergenceWarning: Initialization 1 did not converge. Try different init parameters, or increase max_iter, tol or check for degenerate data.\n",
      "  warnings.warn(\n",
      "D:\\Sean\\Miniconda3\\lib\\site-packages\\sklearn\\mixture\\_base.py:277: ConvergenceWarning: Initialization 1 did not converge. Try different init parameters, or increase max_iter, tol or check for degenerate data.\n",
      "  warnings.warn(\n",
      "D:\\Sean\\Miniconda3\\lib\\site-packages\\sklearn\\mixture\\_base.py:277: ConvergenceWarning: Initialization 1 did not converge. Try different init parameters, or increase max_iter, tol or check for degenerate data.\n",
      "  warnings.warn(\n",
      "D:\\Sean\\Miniconda3\\lib\\site-packages\\sklearn\\mixture\\_base.py:277: ConvergenceWarning: Initialization 1 did not converge. Try different init parameters, or increase max_iter, tol or check for degenerate data.\n",
      "  warnings.warn(\n",
      "D:\\Sean\\Miniconda3\\lib\\site-packages\\sklearn\\mixture\\_base.py:277: ConvergenceWarning: Initialization 1 did not converge. Try different init parameters, or increase max_iter, tol or check for degenerate data.\n",
      "  warnings.warn(\n",
      "D:\\Sean\\Miniconda3\\lib\\site-packages\\sklearn\\mixture\\_base.py:277: ConvergenceWarning: Initialization 1 did not converge. Try different init parameters, or increase max_iter, tol or check for degenerate data.\n",
      "  warnings.warn(\n",
      "D:\\Sean\\Miniconda3\\lib\\site-packages\\ctgan\\data_transformer.py:111: SettingWithCopyWarning: \n",
      "A value is trying to be set on a copy of a slice from a DataFrame.\n",
      "Try using .loc[row_indexer,col_indexer] = value instead\n",
      "\n",
      "See the caveats in the documentation: https://pandas.pydata.org/pandas-docs/stable/user_guide/indexing.html#returning-a-view-versus-a-copy\n",
      "  data[column_name] = data[column_name].to_numpy().flatten()\n"
     ]
    },
    {
     "name": "stderr",
     "output_type": "stream",
     "text": [
      "D:\\Sean\\Miniconda3\\lib\\site-packages\\ctgan\\data_transformer.py:111: SettingWithCopyWarning: \n",
      "A value is trying to be set on a copy of a slice from a DataFrame.\n",
      "Try using .loc[row_indexer,col_indexer] = value instead\n",
      "\n",
      "See the caveats in the documentation: https://pandas.pydata.org/pandas-docs/stable/user_guide/indexing.html#returning-a-view-versus-a-copy\n",
      "  data[column_name] = data[column_name].to_numpy().flatten()\n",
      "D:\\Sean\\Miniconda3\\lib\\site-packages\\ctgan\\data_transformer.py:111: SettingWithCopyWarning: \n",
      "A value is trying to be set on a copy of a slice from a DataFrame.\n",
      "Try using .loc[row_indexer,col_indexer] = value instead\n",
      "\n",
      "See the caveats in the documentation: https://pandas.pydata.org/pandas-docs/stable/user_guide/indexing.html#returning-a-view-versus-a-copy\n",
      "  data[column_name] = data[column_name].to_numpy().flatten()\n",
      "D:\\Sean\\Miniconda3\\lib\\site-packages\\ctgan\\data_transformer.py:111: SettingWithCopyWarning: \n",
      "A value is trying to be set on a copy of a slice from a DataFrame.\n",
      "Try using .loc[row_indexer,col_indexer] = value instead\n",
      "\n",
      "See the caveats in the documentation: https://pandas.pydata.org/pandas-docs/stable/user_guide/indexing.html#returning-a-view-versus-a-copy\n",
      "  data[column_name] = data[column_name].to_numpy().flatten()\n",
      "D:\\Sean\\Miniconda3\\lib\\site-packages\\ctgan\\data_transformer.py:111: SettingWithCopyWarning: \n",
      "A value is trying to be set on a copy of a slice from a DataFrame.\n",
      "Try using .loc[row_indexer,col_indexer] = value instead\n",
      "\n",
      "See the caveats in the documentation: https://pandas.pydata.org/pandas-docs/stable/user_guide/indexing.html#returning-a-view-versus-a-copy\n",
      "  data[column_name] = data[column_name].to_numpy().flatten()\n",
      "D:\\Sean\\Miniconda3\\lib\\site-packages\\ctgan\\data_transformer.py:111: SettingWithCopyWarning: \n",
      "A value is trying to be set on a copy of a slice from a DataFrame.\n",
      "Try using .loc[row_indexer,col_indexer] = value instead\n",
      "\n",
      "See the caveats in the documentation: https://pandas.pydata.org/pandas-docs/stable/user_guide/indexing.html#returning-a-view-versus-a-copy\n",
      "  data[column_name] = data[column_name].to_numpy().flatten()\n",
      "D:\\Sean\\Miniconda3\\lib\\site-packages\\ctgan\\data_transformer.py:111: SettingWithCopyWarning: \n",
      "A value is trying to be set on a copy of a slice from a DataFrame.\n",
      "Try using .loc[row_indexer,col_indexer] = value instead\n",
      "\n",
      "See the caveats in the documentation: https://pandas.pydata.org/pandas-docs/stable/user_guide/indexing.html#returning-a-view-versus-a-copy\n",
      "  data[column_name] = data[column_name].to_numpy().flatten()\n",
      "D:\\Sean\\Miniconda3\\lib\\site-packages\\ctgan\\data_transformer.py:111: SettingWithCopyWarning: \n",
      "A value is trying to be set on a copy of a slice from a DataFrame.\n",
      "Try using .loc[row_indexer,col_indexer] = value instead\n",
      "\n",
      "See the caveats in the documentation: https://pandas.pydata.org/pandas-docs/stable/user_guide/indexing.html#returning-a-view-versus-a-copy\n",
      "  data[column_name] = data[column_name].to_numpy().flatten()\n",
      "D:\\Sean\\Miniconda3\\lib\\site-packages\\ctgan\\data_transformer.py:111: SettingWithCopyWarning: \n",
      "A value is trying to be set on a copy of a slice from a DataFrame.\n",
      "Try using .loc[row_indexer,col_indexer] = value instead\n",
      "\n",
      "See the caveats in the documentation: https://pandas.pydata.org/pandas-docs/stable/user_guide/indexing.html#returning-a-view-versus-a-copy\n",
      "  data[column_name] = data[column_name].to_numpy().flatten()\n",
      "D:\\Sean\\Miniconda3\\lib\\site-packages\\ctgan\\data_transformer.py:111: SettingWithCopyWarning: \n",
      "A value is trying to be set on a copy of a slice from a DataFrame.\n",
      "Try using .loc[row_indexer,col_indexer] = value instead\n",
      "\n",
      "See the caveats in the documentation: https://pandas.pydata.org/pandas-docs/stable/user_guide/indexing.html#returning-a-view-versus-a-copy\n",
      "  data[column_name] = data[column_name].to_numpy().flatten()\n",
      "D:\\Sean\\Miniconda3\\lib\\site-packages\\ctgan\\data_transformer.py:111: SettingWithCopyWarning: \n",
      "A value is trying to be set on a copy of a slice from a DataFrame.\n",
      "Try using .loc[row_indexer,col_indexer] = value instead\n",
      "\n",
      "See the caveats in the documentation: https://pandas.pydata.org/pandas-docs/stable/user_guide/indexing.html#returning-a-view-versus-a-copy\n",
      "  data[column_name] = data[column_name].to_numpy().flatten()\n",
      "D:\\Sean\\Miniconda3\\lib\\site-packages\\ctgan\\data_transformer.py:111: SettingWithCopyWarning: \n",
      "A value is trying to be set on a copy of a slice from a DataFrame.\n",
      "Try using .loc[row_indexer,col_indexer] = value instead\n",
      "\n",
      "See the caveats in the documentation: https://pandas.pydata.org/pandas-docs/stable/user_guide/indexing.html#returning-a-view-versus-a-copy\n",
      "  data[column_name] = data[column_name].to_numpy().flatten()\n",
      "D:\\Sean\\Miniconda3\\lib\\site-packages\\ctgan\\data_transformer.py:111: SettingWithCopyWarning: \n",
      "A value is trying to be set on a copy of a slice from a DataFrame.\n",
      "Try using .loc[row_indexer,col_indexer] = value instead\n",
      "\n",
      "See the caveats in the documentation: https://pandas.pydata.org/pandas-docs/stable/user_guide/indexing.html#returning-a-view-versus-a-copy\n",
      "  data[column_name] = data[column_name].to_numpy().flatten()\n",
      "D:\\Sean\\Miniconda3\\lib\\site-packages\\ctgan\\data_transformer.py:111: SettingWithCopyWarning: \n",
      "A value is trying to be set on a copy of a slice from a DataFrame.\n",
      "Try using .loc[row_indexer,col_indexer] = value instead\n",
      "\n",
      "See the caveats in the documentation: https://pandas.pydata.org/pandas-docs/stable/user_guide/indexing.html#returning-a-view-versus-a-copy\n",
      "  data[column_name] = data[column_name].to_numpy().flatten()\n",
      "D:\\Sean\\Miniconda3\\lib\\site-packages\\ctgan\\data_transformer.py:111: SettingWithCopyWarning: \n",
      "A value is trying to be set on a copy of a slice from a DataFrame.\n",
      "Try using .loc[row_indexer,col_indexer] = value instead\n",
      "\n",
      "See the caveats in the documentation: https://pandas.pydata.org/pandas-docs/stable/user_guide/indexing.html#returning-a-view-versus-a-copy\n",
      "  data[column_name] = data[column_name].to_numpy().flatten()\n",
      "D:\\Sean\\Miniconda3\\lib\\site-packages\\ctgan\\data_transformer.py:111: SettingWithCopyWarning: \n",
      "A value is trying to be set on a copy of a slice from a DataFrame.\n",
      "Try using .loc[row_indexer,col_indexer] = value instead\n",
      "\n",
      "See the caveats in the documentation: https://pandas.pydata.org/pandas-docs/stable/user_guide/indexing.html#returning-a-view-versus-a-copy\n",
      "  data[column_name] = data[column_name].to_numpy().flatten()\n",
      "D:\\Sean\\Miniconda3\\lib\\site-packages\\ctgan\\data_transformer.py:111: SettingWithCopyWarning: \n",
      "A value is trying to be set on a copy of a slice from a DataFrame.\n",
      "Try using .loc[row_indexer,col_indexer] = value instead\n",
      "\n",
      "See the caveats in the documentation: https://pandas.pydata.org/pandas-docs/stable/user_guide/indexing.html#returning-a-view-versus-a-copy\n",
      "  data[column_name] = data[column_name].to_numpy().flatten()\n",
      "D:\\Sean\\Miniconda3\\lib\\site-packages\\ctgan\\data_transformer.py:111: SettingWithCopyWarning: \n",
      "A value is trying to be set on a copy of a slice from a DataFrame.\n",
      "Try using .loc[row_indexer,col_indexer] = value instead\n",
      "\n",
      "See the caveats in the documentation: https://pandas.pydata.org/pandas-docs/stable/user_guide/indexing.html#returning-a-view-versus-a-copy\n",
      "  data[column_name] = data[column_name].to_numpy().flatten()\n",
      "D:\\Sean\\Miniconda3\\lib\\site-packages\\ctgan\\data_transformer.py:111: SettingWithCopyWarning: \n",
      "A value is trying to be set on a copy of a slice from a DataFrame.\n",
      "Try using .loc[row_indexer,col_indexer] = value instead\n",
      "\n",
      "See the caveats in the documentation: https://pandas.pydata.org/pandas-docs/stable/user_guide/indexing.html#returning-a-view-versus-a-copy\n",
      "  data[column_name] = data[column_name].to_numpy().flatten()\n",
      "D:\\Sean\\Miniconda3\\lib\\site-packages\\ctgan\\data_transformer.py:111: SettingWithCopyWarning: \n",
      "A value is trying to be set on a copy of a slice from a DataFrame.\n",
      "Try using .loc[row_indexer,col_indexer] = value instead\n",
      "\n",
      "See the caveats in the documentation: https://pandas.pydata.org/pandas-docs/stable/user_guide/indexing.html#returning-a-view-versus-a-copy\n",
      "  data[column_name] = data[column_name].to_numpy().flatten()\n",
      "D:\\Sean\\Miniconda3\\lib\\site-packages\\ctgan\\data_transformer.py:111: SettingWithCopyWarning: \n",
      "A value is trying to be set on a copy of a slice from a DataFrame.\n",
      "Try using .loc[row_indexer,col_indexer] = value instead\n",
      "\n",
      "See the caveats in the documentation: https://pandas.pydata.org/pandas-docs/stable/user_guide/indexing.html#returning-a-view-versus-a-copy\n",
      "  data[column_name] = data[column_name].to_numpy().flatten()\n"
     ]
    },
    {
     "name": "stderr",
     "output_type": "stream",
     "text": [
      "D:\\Sean\\Miniconda3\\lib\\site-packages\\ctgan\\data_transformer.py:111: SettingWithCopyWarning: \n",
      "A value is trying to be set on a copy of a slice from a DataFrame.\n",
      "Try using .loc[row_indexer,col_indexer] = value instead\n",
      "\n",
      "See the caveats in the documentation: https://pandas.pydata.org/pandas-docs/stable/user_guide/indexing.html#returning-a-view-versus-a-copy\n",
      "  data[column_name] = data[column_name].to_numpy().flatten()\n",
      "D:\\Sean\\Miniconda3\\lib\\site-packages\\ctgan\\data_transformer.py:111: SettingWithCopyWarning: \n",
      "A value is trying to be set on a copy of a slice from a DataFrame.\n",
      "Try using .loc[row_indexer,col_indexer] = value instead\n",
      "\n",
      "See the caveats in the documentation: https://pandas.pydata.org/pandas-docs/stable/user_guide/indexing.html#returning-a-view-versus-a-copy\n",
      "  data[column_name] = data[column_name].to_numpy().flatten()\n",
      "D:\\Sean\\Miniconda3\\lib\\site-packages\\ctgan\\data_transformer.py:111: SettingWithCopyWarning: \n",
      "A value is trying to be set on a copy of a slice from a DataFrame.\n",
      "Try using .loc[row_indexer,col_indexer] = value instead\n",
      "\n",
      "See the caveats in the documentation: https://pandas.pydata.org/pandas-docs/stable/user_guide/indexing.html#returning-a-view-versus-a-copy\n",
      "  data[column_name] = data[column_name].to_numpy().flatten()\n",
      "D:\\Sean\\Miniconda3\\lib\\site-packages\\ctgan\\data_transformer.py:111: SettingWithCopyWarning: \n",
      "A value is trying to be set on a copy of a slice from a DataFrame.\n",
      "Try using .loc[row_indexer,col_indexer] = value instead\n",
      "\n",
      "See the caveats in the documentation: https://pandas.pydata.org/pandas-docs/stable/user_guide/indexing.html#returning-a-view-versus-a-copy\n",
      "  data[column_name] = data[column_name].to_numpy().flatten()\n",
      "D:\\Sean\\Miniconda3\\lib\\site-packages\\ctgan\\data_transformer.py:111: SettingWithCopyWarning: \n",
      "A value is trying to be set on a copy of a slice from a DataFrame.\n",
      "Try using .loc[row_indexer,col_indexer] = value instead\n",
      "\n",
      "See the caveats in the documentation: https://pandas.pydata.org/pandas-docs/stable/user_guide/indexing.html#returning-a-view-versus-a-copy\n",
      "  data[column_name] = data[column_name].to_numpy().flatten()\n",
      "D:\\Sean\\Miniconda3\\lib\\site-packages\\ctgan\\data_transformer.py:111: SettingWithCopyWarning: \n",
      "A value is trying to be set on a copy of a slice from a DataFrame.\n",
      "Try using .loc[row_indexer,col_indexer] = value instead\n",
      "\n",
      "See the caveats in the documentation: https://pandas.pydata.org/pandas-docs/stable/user_guide/indexing.html#returning-a-view-versus-a-copy\n",
      "  data[column_name] = data[column_name].to_numpy().flatten()\n",
      "D:\\Sean\\Miniconda3\\lib\\site-packages\\ctgan\\data_transformer.py:111: SettingWithCopyWarning: \n",
      "A value is trying to be set on a copy of a slice from a DataFrame.\n",
      "Try using .loc[row_indexer,col_indexer] = value instead\n",
      "\n",
      "See the caveats in the documentation: https://pandas.pydata.org/pandas-docs/stable/user_guide/indexing.html#returning-a-view-versus-a-copy\n",
      "  data[column_name] = data[column_name].to_numpy().flatten()\n",
      "D:\\Sean\\Miniconda3\\lib\\site-packages\\ctgan\\data_transformer.py:111: SettingWithCopyWarning: \n",
      "A value is trying to be set on a copy of a slice from a DataFrame.\n",
      "Try using .loc[row_indexer,col_indexer] = value instead\n",
      "\n",
      "See the caveats in the documentation: https://pandas.pydata.org/pandas-docs/stable/user_guide/indexing.html#returning-a-view-versus-a-copy\n",
      "  data[column_name] = data[column_name].to_numpy().flatten()\n",
      "D:\\Sean\\Miniconda3\\lib\\site-packages\\ctgan\\data_transformer.py:111: SettingWithCopyWarning: \n",
      "A value is trying to be set on a copy of a slice from a DataFrame.\n",
      "Try using .loc[row_indexer,col_indexer] = value instead\n",
      "\n",
      "See the caveats in the documentation: https://pandas.pydata.org/pandas-docs/stable/user_guide/indexing.html#returning-a-view-versus-a-copy\n",
      "  data[column_name] = data[column_name].to_numpy().flatten()\n",
      "D:\\Sean\\Miniconda3\\lib\\site-packages\\ctgan\\data_transformer.py:111: SettingWithCopyWarning: \n",
      "A value is trying to be set on a copy of a slice from a DataFrame.\n",
      "Try using .loc[row_indexer,col_indexer] = value instead\n",
      "\n",
      "See the caveats in the documentation: https://pandas.pydata.org/pandas-docs/stable/user_guide/indexing.html#returning-a-view-versus-a-copy\n",
      "  data[column_name] = data[column_name].to_numpy().flatten()\n",
      "D:\\Sean\\Miniconda3\\lib\\site-packages\\ctgan\\data_transformer.py:111: SettingWithCopyWarning: \n",
      "A value is trying to be set on a copy of a slice from a DataFrame.\n",
      "Try using .loc[row_indexer,col_indexer] = value instead\n",
      "\n",
      "See the caveats in the documentation: https://pandas.pydata.org/pandas-docs/stable/user_guide/indexing.html#returning-a-view-versus-a-copy\n",
      "  data[column_name] = data[column_name].to_numpy().flatten()\n"
     ]
    },
    {
     "name": "stdout",
     "output_type": "stream",
     "text": [
      "Epoch 1, Loss G: -0.3439,Loss D:  0.1639\n",
      "Epoch 2, Loss G: -0.8069,Loss D: -0.0820\n",
      "Epoch 3, Loss G: -1.6425,Loss D:  0.0956\n",
      "Epoch 4, Loss G: -2.2711,Loss D:  0.2000\n",
      "Epoch 5, Loss G: -1.9851,Loss D: -0.0869\n",
      "Epoch 6, Loss G: -2.1762,Loss D:  0.0363\n",
      "Epoch 7, Loss G: -2.4758,Loss D:  0.1750\n",
      "Epoch 8, Loss G: -2.6929,Loss D: -0.1996\n",
      "Epoch 9, Loss G: -3.1421,Loss D: -0.2556\n",
      "Epoch 10, Loss G: -3.0342,Loss D:  0.0725\n",
      "Epoch 11, Loss G: -2.7642,Loss D: -0.0039\n",
      "Epoch 12, Loss G: -3.6220,Loss D:  0.1562\n",
      "Epoch 13, Loss G: -3.3491,Loss D: -0.3493\n",
      "Epoch 14, Loss G: -3.1619,Loss D: -0.1291\n",
      "Epoch 15, Loss G: -3.1928,Loss D:  0.1583\n",
      "Epoch 16, Loss G: -2.6708,Loss D: -0.2387\n",
      "Epoch 17, Loss G: -2.3399,Loss D: -0.2038\n",
      "Epoch 18, Loss G: -2.3424,Loss D: -0.3217\n",
      "Epoch 19, Loss G: -2.1613,Loss D: -0.3498\n",
      "Epoch 20, Loss G: -1.7847,Loss D: -0.5251\n",
      "Epoch 21, Loss G: -1.6245,Loss D: -0.1020\n",
      "Epoch 22, Loss G: -1.3728,Loss D: -0.5186\n",
      "Epoch 23, Loss G: -1.3680,Loss D: -0.4510\n",
      "Epoch 24, Loss G: -2.2359,Loss D:  0.1116\n",
      "Epoch 25, Loss G: -1.7618,Loss D: -0.1965\n",
      "Epoch 26, Loss G: -1.6928,Loss D: -0.1044\n",
      "Epoch 27, Loss G: -1.3774,Loss D: -0.1260\n",
      "Epoch 28, Loss G: -1.3657,Loss D: -0.3750\n",
      "Epoch 29, Loss G: -1.6826,Loss D: -0.2516\n",
      "Epoch 30, Loss G: -0.8848,Loss D:  0.1600\n",
      "Epoch 31, Loss G: -1.6781,Loss D:  0.0249\n",
      "Epoch 32, Loss G: -2.3603,Loss D: -0.4096\n",
      "Epoch 33, Loss G: -2.3245,Loss D: -0.3956\n",
      "Epoch 34, Loss G: -1.7389,Loss D: -0.1361\n",
      "Epoch 35, Loss G: -2.5149,Loss D: -0.1210\n",
      "Epoch 36, Loss G: -2.3239,Loss D: -0.0228\n",
      "Epoch 37, Loss G: -2.0595,Loss D: -0.0358\n",
      "Epoch 38, Loss G: -2.2799,Loss D: -0.4933\n",
      "Epoch 39, Loss G: -2.4724,Loss D:  0.1183\n",
      "Epoch 40, Loss G: -2.7157,Loss D: -0.2255\n",
      "Epoch 41, Loss G: -2.6021,Loss D:  0.0408\n",
      "Epoch 42, Loss G: -1.8910,Loss D: -0.0557\n",
      "Epoch 43, Loss G: -1.8870,Loss D:  0.1210\n",
      "Epoch 44, Loss G: -2.7395,Loss D: -0.0337\n",
      "Epoch 45, Loss G: -1.8375,Loss D: -0.3121\n",
      "Epoch 46, Loss G: -2.7229,Loss D: -0.0341\n",
      "Epoch 47, Loss G: -2.5746,Loss D:  0.1579\n",
      "Epoch 48, Loss G: -2.8952,Loss D: -0.2028\n",
      "Epoch 49, Loss G: -1.9032,Loss D: -0.0327\n",
      "Epoch 50, Loss G: -2.6498,Loss D: -0.2491\n"
     ]
    },
    {
     "name": "stderr",
     "output_type": "stream",
     "text": [
      "C:\\Windows\\Temp\\ipykernel_29936\\1957238936.py:81: FutureWarning: The frame.append method is deprecated and will be removed from pandas in a future version. Use pandas.concat instead.\n",
      "  distruex_final = pd.DataFrame(output_true_upsampled_x).append(pd.DataFrame(output_noise_x),ignore_index = True).to_numpy()\n",
      "C:\\Windows\\Temp\\ipykernel_29936\\1957238936.py:82: FutureWarning: The frame.append method is deprecated and will be removed from pandas in a future version. Use pandas.concat instead.\n",
      "  distruey_final = pd.DataFrame(output_true_upsampled_y).append(pd.DataFrame(output_noise_y),ignore_index = True).to_numpy()\n"
     ]
    },
    {
     "name": "stdout",
     "output_type": "stream",
     "text": [
      "Final True Discriminant Accuracy: 1.000\n"
     ]
    }
   ],
   "source": [
    "findisc = RandomForestClassifier(random_state = 42)\n",
    "gan = CTGANSynthesizer(epochs = 50, verbose = True, cuda = True)\n",
    "train(findisc,gan,output_model_noise,output_model_true)"
   ]
  },
  {
   "cell_type": "code",
   "execution_count": 9,
   "id": "72009932",
   "metadata": {},
   "outputs": [
    {
     "data": {
      "image/png": "[encoded data removed]",
      "text/plain": [
       "<Figure size 432x288 with 1 Axes>"
      ]
     },
     "metadata": {
      "needs_background": "light"
     },
     "output_type": "display_data"
    },
    {
     "data": {
      "image/png": "[encoded data removed]",
      "text/plain": [
       "<Figure size 432x288 with 1 Axes>"
      ]
     },
     "metadata": {
      "needs_background": "light"
     },
     "output_type": "display_data"
    }
   ],
   "source": [
    "fake = gan.sample(output_model_true.shape[0])\n",
    "comparenoise = output_model_noise.flatten()\n",
    "comparetrue = output_model_true.flatten()\n",
    "comparefake = fake.flatten()\n",
    "sns.kdeplot(comparenoise)\n",
    "sns.kdeplot(comparetrue)\n",
    "plt.legend(labels = ['comparenoise','comparetrue'])\n",
    "plt.show()\n",
    "sns.kdeplot(comparefake)\n",
    "plt.legend(labels = 'comparefake')\n",
    "plt.show()"
   ]
  },
  {
   "cell_type": "code",
   "execution_count": 10,
   "id": "ca8b2068",
   "metadata": {},
   "outputs": [
    {
     "data": {
      "text/plain": [
       "Ttest_indResult(statistic=4.122997717941084, pvalue=3.73981251976892e-05)"
      ]
     },
     "execution_count": 10,
     "metadata": {},
     "output_type": "execute_result"
    }
   ],
   "source": [
    "from scipy.stats import ttest_ind\n",
    "\n",
    "ttest_ind(comparetrue,comparefake)"
   ]
  },
  {
   "cell_type": "code",
   "execution_count": 11,
   "id": "ce66dd88",
   "metadata": {},
   "outputs": [
    {
     "data": {
      "text/plain": [
       "<matplotlib.legend.Legend at 0x182a5184df0>"
      ]
     },
     "execution_count": 11,
     "metadata": {},
     "output_type": "execute_result"
    },
    {
     "data": {
      "image/png": "[encoded data removed]",
      "text/plain": [
       "<Figure size 432x288 with 1 Axes>"
      ]
     },
     "metadata": {
      "needs_background": "light"
     },
     "output_type": "display_data"
    }
   ],
   "source": [
    "sns.kdeplot(comparetrue)\n",
    "sns.kdeplot(comparefake)\n",
    "plt.legend(labels = ['comparetrue','comparefake'])"
   ]
  },
  {
   "cell_type": "code",
   "execution_count": null,
   "id": "8a3c5197",
   "metadata": {},
   "outputs": [],
   "source": []
  }
 ],
 "metadata": {
  "kernelspec": {
   "display_name": "Python 3 (ipykernel)",
   "language": "python",
   "name": "python3"
  },
  "language_info": {
   "codemirror_mode": {
    "name": "ipython",
    "version": 3
   },
   "file_extension": ".py",
   "mimetype": "text/x-python",
   "name": "python",
   "nbconvert_exporter": "python",
   "pygments_lexer": "ipython3",
   "version": "3.9.12"
  }
 },
 "nbformat": 4,
 "nbformat_minor": 5
}
