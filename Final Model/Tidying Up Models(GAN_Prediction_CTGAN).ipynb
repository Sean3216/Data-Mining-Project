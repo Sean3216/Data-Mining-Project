{
 "cells": [
  {
   "cell_type": "code",
   "execution_count": 1,
   "id": "7a66ba4b",
   "metadata": {},
   "outputs": [
    {
     "name": "stderr",
     "output_type": "stream",
     "text": [
      "D:\\Sean\\Miniconda3\\lib\\site-packages\\tqdm\\auto.py:22: TqdmWarning: IProgress not found. Please update jupyter and ipywidgets. See https://ipywidgets.readthedocs.io/en/stable/user_install.html\n",
      "  from .autonotebook import tqdm as notebook_tqdm\n"
     ]
    }
   ],
   "source": [
    "import tensorflow as tf\n",
    "import pandas as pd\n",
    "import numpy as np\n",
    "import tensorflow_privacy\n",
    "import matplotlib.pyplot as plt\n",
    "import seaborn as sns\n",
    "from tensorflow_privacy.privacy.analysis import compute_dp_sgd_privacy\n",
    "from tensorflow.keras.regularizers import L1,L2\n",
    "from tensorflow.keras import layers\n",
    "from keras import backend as K\n",
    "tf.random.set_seed(42)\n",
    "\n",
    "from ctgan import CTGANSynthesizer"
   ]
  },
  {
   "cell_type": "markdown",
   "id": "f0dae824",
   "metadata": {},
   "source": [
    "https://github.com/sdv-dev/SDGym/issues/44"
   ]
  },
  {
   "cell_type": "code",
   "execution_count": 2,
   "id": "c72d49f9",
   "metadata": {},
   "outputs": [],
   "source": [
    "train, test = tf.keras.datasets.mnist.load_data()\n",
    "train_data, train_labels = train\n",
    "test_data, test_labels = test\n",
    "\n",
    "train_data = np.array(train_data, dtype=np.float32)/255\n",
    "test_data = np.array(test_data, dtype=np.float32)/255\n",
    "\n",
    "train_data = train_data.reshape(train_data.shape[0],28,28,1) \n",
    "test_data = test_data.reshape(test_data.shape[0],28,28,1)\n",
    "\n",
    "train_labels = np.array(train_labels, dtype = np.int32)\n",
    "test_labels = np.array(test_labels, dtype = np.int32)\n",
    "\n",
    "train_labels = tf.keras.utils.to_categorical(train_labels, num_classes = 10)\n",
    "test_labels = tf.keras.utils.to_categorical(test_labels, num_classes = 10)\n",
    "\n",
    "#check data distribution, normalized since divided by 255\n",
    "assert train_data.min() == 0\n",
    "assert train_data.max() == 1\n",
    "assert test_data.min() == 0\n",
    "assert test_data.max() == 1"
   ]
  },
  {
   "cell_type": "markdown",
   "id": "dc6ad358",
   "metadata": {},
   "source": [
    "## Defining Functions"
   ]
  },
  {
   "cell_type": "code",
   "execution_count": 3,
   "id": "1a2968b0",
   "metadata": {},
   "outputs": [],
   "source": [
    "def dp_sgd(l2_norm_clip,noise_multiplier,num_microbatches,learning_rate):\n",
    "    model = tf.keras.Sequential([\n",
    "        tf.keras.layers.Conv2D(16,8,\n",
    "                              strides = 2,\n",
    "                              padding = 'same',\n",
    "                              activation = 'relu',\n",
    "                              input_shape = (28,28,1)),\n",
    "        tf.keras.layers.MaxPool2D(2,1),\n",
    "        tf.keras.layers.Conv2D(32,4,\n",
    "                               strides = 2,\n",
    "                               padding = 'valid',\n",
    "                               activation = 'relu'),\n",
    "        tf.keras.layers.MaxPool2D(2,1),\n",
    "        tf.keras.layers.Flatten(),\n",
    "        tf.keras.layers.Dense(32, activation = 'relu'),\n",
    "        tf.keras.layers.Dense(10, activation = 'softmax')\n",
    "    ])\n",
    "    \n",
    "    optimizer = tensorflow_privacy.DPKerasSGDOptimizer(\n",
    "        l2_norm_clip = l2_norm_clip,\n",
    "        noise_multiplier = noise_multiplier,\n",
    "        num_microbatches = num_microbatches,\n",
    "        learning_rate = learning_rate)\n",
    "    loss = tf.keras.losses.CategoricalCrossentropy(\n",
    "        from_logits = False, reduction = tf.losses.Reduction.NONE)\n",
    "    model.compile(optimizer = optimizer , loss = loss, metrics = ['accuracy'])\n",
    "    return model\n",
    "\n",
    "def normalmodel():\n",
    "    model = tf.keras.Sequential([\n",
    "        tf.keras.layers.Conv2D(16,8,\n",
    "                              strides = 2,\n",
    "                              padding = 'same',\n",
    "                              activation = 'relu',\n",
    "                              input_shape = (28,28,1)),\n",
    "        tf.keras.layers.MaxPool2D(2,1),\n",
    "        tf.keras.layers.Conv2D(32,4,\n",
    "                               strides = 2,\n",
    "                               padding = 'valid',\n",
    "                               activation = 'relu'),\n",
    "        tf.keras.layers.MaxPool2D(2,1),\n",
    "        tf.keras.layers.Flatten(),\n",
    "        tf.keras.layers.Dense(32, activation = 'relu'),\n",
    "        tf.keras.layers.Dense(10, activation = 'softmax')\n",
    "    ])\n",
    "    \n",
    "    optimizer = tf.keras.optimizers.Adam()\n",
    "    loss = tf.keras.losses.CategoricalCrossentropy(\n",
    "        from_logits = False, reduction = tf.losses.Reduction.NONE)\n",
    "    model.compile(optimizer = optimizer , loss = loss, metrics = ['accuracy'])\n",
    "    return model\n",
    "\n",
    "def getlayeroutput(model,data,index):\n",
    "    from keras import backend as K\n",
    "    getoutput = K.function([model.layers[0].input],[model.layers[index].output])\n",
    "    return getoutput([data])[0]\n",
    "\n",
    "def discriminatortrue(in_shape):\n",
    "    model = tf.keras.Sequential([\n",
    "        tf.keras.layers.Dense(20,input_dim = in_shape,\n",
    "                              activation = 'linear'),\n",
    "        tf.keras.layers.Dense(30,activation = 'relu'),\n",
    "        tf.keras.layers.Dropout(0.6),\n",
    "        tf.keras.layers.Dense(10,activation = 'linear'),\n",
    "        tf.keras.layers.Dropout(0.6),\n",
    "        tf.keras.layers.Dense(1,activation = 'sigmoid')\n",
    "    ])\n",
    "    optimizer = tf.keras.optimizers.SGD()\n",
    "    model.compile(loss = 'binary_crossentropy', optimizer = optimizer,\n",
    "                 metrics = 'accuracy')\n",
    "    return model\n",
    "\n",
    "\n",
    "def train(distrue, gan, output_noise, output_true):\n",
    "    \n",
    "    ### HUGE NOTE: Normalmodel is 1, DPmodel is 0\n",
    "    \n",
    "    #train the true discriminator to the DPmodel and Normalmodel data\n",
    "    distrue_output_true_train_x = output_true[:] #setting x data from normalmodel for true discriminant\n",
    "    distrue_output_true_train_y = np.ones((output_true.shape[0],1)) #setting y data from normalmodel for true discriminant\n",
    "    \n",
    "    distrue_output_noise_train_x = output_noise[:] #setting x data from DPmodel for true discriminant\n",
    "    distrue_output_noise_train_y = np.zeros((output_noise.shape[0],1)) #setting y data from DPmodel for true discriminant\n",
    "    \n",
    "    #combine\n",
    "    distruex = pd.DataFrame(distrue_output_true_train_x).append(pd.DataFrame(distrue_output_noise_train_x),ignore_index = True).to_numpy()\n",
    "    distruey = pd.DataFrame(distrue_output_true_train_y).append(pd.DataFrame(distrue_output_noise_train_y),ignore_index = True).to_numpy()\n",
    "    \n",
    "    #shuffle\n",
    "    distruex_shuffle, distruey_shuffle = shuffledata(distruex,distruey)\n",
    "    distrue.fit(distruex_shuffle,distruey_shuffle)\n",
    "    \n",
    "    #Initiate GAN\n",
    "    ###########################################################################################################      \n",
    "    ##GAN PART\n",
    "    gan.fit(output_true)\n",
    "    fake = gan.sample(output_true.shape[0])\n",
    "    ########################################################################################################### \n",
    "    #final accuracy of True Discriminant\n",
    "    output_true_upsampled_x = fake[:]\n",
    "    output_true_upsampled_y = np.ones((output_true_upsampled_x.shape[0],1))\n",
    "    \n",
    "    output_noise_x, output_noise_y = output_noise[:], np.zeros((output_noise.shape[0],1))\n",
    "    \n",
    "    distruex_final = pd.DataFrame(output_true_upsampled_x).append(pd.DataFrame(output_noise_x),ignore_index = True).to_numpy()\n",
    "    distruey_final = pd.DataFrame(output_true_upsampled_y).append(pd.DataFrame(output_noise_y),ignore_index = True).to_numpy()\n",
    "    \n",
    "    #shuffle\n",
    "    distruex_final_shuffle, distruey_final_shuffle = shuffledata(distruex_final,distruey_final)\n",
    "    #pred = distrue.predict(distruex_final_shuffle)  \n",
    "    \n",
    "    _ , fin_acc = distrue.test_on_batch(distruex_final_shuffle,distruey_final_shuffle)\n",
    "\n",
    "    #fin_acc = accuracy_score(np.array(distruey_final_shuffle), pred)\n",
    "    print(\"Final True Discriminant Accuracy: %.3f\" % fin_acc)\n",
    "    \n",
    "\n",
    "def shuffledata(xdata,ydata):\n",
    "    indices = tf.range(start=0,limit=tf.shape(xdata)[0], dtype = tf.int32)\n",
    "    idx = tf.random.shuffle(indices)\n",
    "    return tf.gather(xdata,idx) , tf.gather(ydata,idx)"
   ]
  },
  {
   "cell_type": "markdown",
   "id": "ad64c14f",
   "metadata": {},
   "source": [
    "## Training Original Model "
   ]
  },
  {
   "cell_type": "markdown",
   "id": "50f5ca23",
   "metadata": {},
   "source": [
    "##### DPmodel & Normalmodel"
   ]
  },
  {
   "cell_type": "code",
   "execution_count": 13,
   "id": "dc38227a",
   "metadata": {},
   "outputs": [
    {
     "name": "stdout",
     "output_type": "stream",
     "text": [
      "Epoch 1/5\n",
      "240/240 [==============================] - 26s 98ms/step - loss: 0.6123 - accuracy: 0.8079 - val_loss: 0.1771 - val_accuracy: 0.9455\n",
      "Epoch 2/5\n",
      "240/240 [==============================] - 23s 96ms/step - loss: 0.1633 - accuracy: 0.9530 - val_loss: 0.1304 - val_accuracy: 0.9620\n",
      "Epoch 3/5\n",
      "240/240 [==============================] - 24s 99ms/step - loss: 0.1269 - accuracy: 0.9650 - val_loss: 0.0931 - val_accuracy: 0.9729\n",
      "Epoch 4/5\n",
      "240/240 [==============================] - 24s 100ms/step - loss: 0.1095 - accuracy: 0.9707 - val_loss: 0.0956 - val_accuracy: 0.9729\n",
      "Epoch 5/5\n",
      "240/240 [==============================] - 24s 99ms/step - loss: 0.0993 - accuracy: 0.9733 - val_loss: 0.0843 - val_accuracy: 0.9755\n"
     ]
    },
    {
     "data": {
      "text/plain": [
       "<keras.callbacks.History at 0x25faa662e80>"
      ]
     },
     "execution_count": 13,
     "metadata": {},
     "output_type": "execute_result"
    }
   ],
   "source": [
    "DPmodel = dp_sgd(l2_norm_clip = 1.5, noise_multiplier = 0.001, \n",
    "                 num_microbatches = 50, learning_rate = 0.25)\n",
    "DPmodel.fit(train_data, train_labels, \n",
    "            epochs = 5, batch_size = 250,\n",
    "            validation_data = (test_data, test_labels))"
   ]
  },
  {
   "cell_type": "code",
   "execution_count": 4,
   "id": "b45a8a3c",
   "metadata": {},
   "outputs": [
    {
     "name": "stdout",
     "output_type": "stream",
     "text": [
      "Epoch 1/5\n",
      "240/240 [==============================] - 29s 102ms/step - loss: 1.1073 - accuracy: 0.6621 - val_loss: 1.1305 - val_accuracy: 0.7592\n",
      "Epoch 2/5\n",
      "240/240 [==============================] - 23s 98ms/step - loss: 1.2494 - accuracy: 0.7706 - val_loss: 1.3374 - val_accuracy: 0.7566\n",
      "Epoch 3/5\n",
      "240/240 [==============================] - 24s 99ms/step - loss: 1.3433 - accuracy: 0.7401 - val_loss: 1.2688 - val_accuracy: 0.7450\n",
      "Epoch 4/5\n",
      "240/240 [==============================] - 23s 95ms/step - loss: 1.3787 - accuracy: 0.7293 - val_loss: 1.1229 - val_accuracy: 0.7653\n",
      "Epoch 5/5\n",
      "240/240 [==============================] - 23s 96ms/step - loss: 1.2395 - accuracy: 0.7295 - val_loss: 1.2607 - val_accuracy: 0.7267\n",
      "Epoch 1/5\n",
      "240/240 [==============================] - 2s 7ms/step - loss: 0.4696 - accuracy: 0.8590 - val_loss: 0.1315 - val_accuracy: 0.9595\n",
      "Epoch 2/5\n",
      "240/240 [==============================] - 2s 7ms/step - loss: 0.1114 - accuracy: 0.9662 - val_loss: 0.0759 - val_accuracy: 0.9761\n",
      "Epoch 3/5\n",
      "240/240 [==============================] - 2s 7ms/step - loss: 0.0792 - accuracy: 0.9761 - val_loss: 0.0621 - val_accuracy: 0.9803\n",
      "Epoch 4/5\n",
      "240/240 [==============================] - 2s 7ms/step - loss: 0.0622 - accuracy: 0.9811 - val_loss: 0.0562 - val_accuracy: 0.9827\n",
      "Epoch 5/5\n",
      "240/240 [==============================] - 2s 7ms/step - loss: 0.0533 - accuracy: 0.9836 - val_loss: 0.0482 - val_accuracy: 0.9841\n"
     ]
    },
    {
     "data": {
      "text/plain": [
       "<keras.callbacks.History at 0x25e42eadc70>"
      ]
     },
     "execution_count": 4,
     "metadata": {},
     "output_type": "execute_result"
    }
   ],
   "source": [
    "DPmodel = dp_sgd(l2_norm_clip = 1.5, noise_multiplier = 1.75, \n",
    "                 num_microbatches = 50, learning_rate = 0.25)\n",
    "Normalmodel = normalmodel()\n",
    "\n",
    "DPmodel.fit(train_data, train_labels, \n",
    "            epochs = 5, batch_size = 250,\n",
    "            validation_data = (test_data, test_labels))\n",
    "\n",
    "Normalmodel.fit(train_data, train_labels, \n",
    "                epochs = 5, batch_size = 250,\n",
    "                validation_data = (test_data, test_labels))"
   ]
  },
  {
   "cell_type": "code",
   "execution_count": 5,
   "id": "ad5969a7",
   "metadata": {},
   "outputs": [],
   "source": [
    "DPmodel = dp_sgd(l2_norm_clip = 1.5, noise_multiplier = 1.75, \n",
    "                 num_microbatches = 50, learning_rate = 0.25)\n"
   ]
  },
  {
   "cell_type": "markdown",
   "id": "e3e61a36",
   "metadata": {},
   "source": [
    "##### DP Model Privacy"
   ]
  },
  {
   "cell_type": "code",
   "execution_count": 6,
   "id": "34123ba8",
   "metadata": {},
   "outputs": [
    {
     "name": "stdout",
     "output_type": "stream",
     "text": [
      "DP-SGD with sampling rate = 0.417% and noise_multiplier = 0.1 iterated over 1200 steps satisfies differential privacy with eps = 4.22e+04 and delta = 1e-05.\n",
      "The optimal RDP order is 1.25.\n",
      "The privacy estimate is likely to be improved by expanding the set of orders.\n"
     ]
    },
    {
     "data": {
      "text/plain": [
       "(42160.45465553471, 1.25)"
      ]
     },
     "execution_count": 6,
     "metadata": {},
     "output_type": "execute_result"
    }
   ],
   "source": [
    "compute_dp_sgd_privacy.compute_dp_sgd_privacy(n=train_data.shape[0],\n",
    "                                              batch_size=250,\n",
    "                                              noise_multiplier=0.1,\n",
    "                                              epochs=5,\n",
    "                                              delta=1e-5)"
   ]
  },
  {
   "cell_type": "markdown",
   "id": "bfd56969",
   "metadata": {},
   "source": [
    "##### Normal Model Privacy"
   ]
  },
  {
   "cell_type": "code",
   "execution_count": 7,
   "id": "890c6f28",
   "metadata": {},
   "outputs": [],
   "source": [
    "#compute_dp_sgd_privacy.compute_dp_sgd_privacy(n=train_data.shape[0],\n",
    "#                                              batch_size=250,\n",
    "#                                              noise_multiplier=0.1,\n",
    "#                                              epochs=5,\n",
    "#                                              delta=1e-5)"
   ]
  },
  {
   "cell_type": "markdown",
   "id": "98d6f7cc",
   "metadata": {},
   "source": [
    "## Proceed with GAN"
   ]
  },
  {
   "cell_type": "code",
   "execution_count": 14,
   "id": "c5f2e1ac",
   "metadata": {},
   "outputs": [
    {
     "name": "stdout",
     "output_type": "stream",
     "text": [
      "1875/1875 [==============================] - 5s 3ms/step\n",
      "1875/1875 [==============================] - 5s 2ms/step\n"
     ]
    }
   ],
   "source": [
    "output_model_noise = DPmodel.predict(train_data)\n",
    "output_model_true = Normalmodel.predict(train_data)"
   ]
  },
  {
   "cell_type": "code",
   "execution_count": 15,
   "id": "ae73ec14",
   "metadata": {
    "scrolled": false
   },
   "outputs": [
    {
     "name": "stderr",
     "output_type": "stream",
     "text": [
      "C:\\Windows\\Temp\\ipykernel_19312\\1085924413.py:86: FutureWarning: The frame.append method is deprecated and will be removed from pandas in a future version. Use pandas.concat instead.\n",
      "  distruex = pd.DataFrame(distrue_output_true_train_x).append(pd.DataFrame(distrue_output_noise_train_x),ignore_index = True).to_numpy()\n",
      "C:\\Windows\\Temp\\ipykernel_19312\\1085924413.py:87: FutureWarning: The frame.append method is deprecated and will be removed from pandas in a future version. Use pandas.concat instead.\n",
      "  distruey = pd.DataFrame(distrue_output_true_train_y).append(pd.DataFrame(distrue_output_noise_train_y),ignore_index = True).to_numpy()\n"
     ]
    },
    {
     "name": "stdout",
     "output_type": "stream",
     "text": [
      "3750/3750 [==============================] - 24s 6ms/step - loss: 0.6995 - accuracy: 0.4990\n"
     ]
    },
    {
     "name": "stderr",
     "output_type": "stream",
     "text": [
      "D:\\Sean\\Miniconda3\\lib\\site-packages\\sklearn\\mixture\\_base.py:277: ConvergenceWarning: Initialization 1 did not converge. Try different init parameters, or increase max_iter, tol or check for degenerate data.\n",
      "  warnings.warn(\n",
      "D:\\Sean\\Miniconda3\\lib\\site-packages\\sklearn\\mixture\\_base.py:277: ConvergenceWarning: Initialization 1 did not converge. Try different init parameters, or increase max_iter, tol or check for degenerate data.\n",
      "  warnings.warn(\n",
      "D:\\Sean\\Miniconda3\\lib\\site-packages\\sklearn\\mixture\\_base.py:277: ConvergenceWarning: Initialization 1 did not converge. Try different init parameters, or increase max_iter, tol or check for degenerate data.\n",
      "  warnings.warn(\n",
      "D:\\Sean\\Miniconda3\\lib\\site-packages\\sklearn\\mixture\\_base.py:277: ConvergenceWarning: Initialization 1 did not converge. Try different init parameters, or increase max_iter, tol or check for degenerate data.\n",
      "  warnings.warn(\n",
      "D:\\Sean\\Miniconda3\\lib\\site-packages\\sklearn\\mixture\\_base.py:277: ConvergenceWarning: Initialization 1 did not converge. Try different init parameters, or increase max_iter, tol or check for degenerate data.\n",
      "  warnings.warn(\n",
      "D:\\Sean\\Miniconda3\\lib\\site-packages\\sklearn\\mixture\\_base.py:277: ConvergenceWarning: Initialization 1 did not converge. Try different init parameters, or increase max_iter, tol or check for degenerate data.\n",
      "  warnings.warn(\n",
      "D:\\Sean\\Miniconda3\\lib\\site-packages\\sklearn\\mixture\\_base.py:277: ConvergenceWarning: Initialization 1 did not converge. Try different init parameters, or increase max_iter, tol or check for degenerate data.\n",
      "  warnings.warn(\n",
      "D:\\Sean\\Miniconda3\\lib\\site-packages\\sklearn\\mixture\\_base.py:277: ConvergenceWarning: Initialization 1 did not converge. Try different init parameters, or increase max_iter, tol or check for degenerate data.\n",
      "  warnings.warn(\n",
      "D:\\Sean\\Miniconda3\\lib\\site-packages\\sklearn\\mixture\\_base.py:277: ConvergenceWarning: Initialization 1 did not converge. Try different init parameters, or increase max_iter, tol or check for degenerate data.\n",
      "  warnings.warn(\n",
      "D:\\Sean\\Miniconda3\\lib\\site-packages\\ctgan\\data_transformer.py:111: SettingWithCopyWarning: \n",
      "A value is trying to be set on a copy of a slice from a DataFrame.\n",
      "Try using .loc[row_indexer,col_indexer] = value instead\n",
      "\n",
      "See the caveats in the documentation: https://pandas.pydata.org/pandas-docs/stable/user_guide/indexing.html#returning-a-view-versus-a-copy\n",
      "  data[column_name] = data[column_name].to_numpy().flatten()\n",
      "D:\\Sean\\Miniconda3\\lib\\site-packages\\ctgan\\data_transformer.py:111: SettingWithCopyWarning: \n",
      "A value is trying to be set on a copy of a slice from a DataFrame.\n",
      "Try using .loc[row_indexer,col_indexer] = value instead\n",
      "\n",
      "See the caveats in the documentation: https://pandas.pydata.org/pandas-docs/stable/user_guide/indexing.html#returning-a-view-versus-a-copy\n",
      "  data[column_name] = data[column_name].to_numpy().flatten()\n",
      "D:\\Sean\\Miniconda3\\lib\\site-packages\\ctgan\\data_transformer.py:111: SettingWithCopyWarning: \n",
      "A value is trying to be set on a copy of a slice from a DataFrame.\n",
      "Try using .loc[row_indexer,col_indexer] = value instead\n",
      "\n",
      "See the caveats in the documentation: https://pandas.pydata.org/pandas-docs/stable/user_guide/indexing.html#returning-a-view-versus-a-copy\n",
      "  data[column_name] = data[column_name].to_numpy().flatten()\n",
      "D:\\Sean\\Miniconda3\\lib\\site-packages\\ctgan\\data_transformer.py:111: SettingWithCopyWarning: \n",
      "A value is trying to be set on a copy of a slice from a DataFrame.\n",
      "Try using .loc[row_indexer,col_indexer] = value instead\n",
      "\n",
      "See the caveats in the documentation: https://pandas.pydata.org/pandas-docs/stable/user_guide/indexing.html#returning-a-view-versus-a-copy\n",
      "  data[column_name] = data[column_name].to_numpy().flatten()\n",
      "D:\\Sean\\Miniconda3\\lib\\site-packages\\ctgan\\data_transformer.py:111: SettingWithCopyWarning: \n",
      "A value is trying to be set on a copy of a slice from a DataFrame.\n",
      "Try using .loc[row_indexer,col_indexer] = value instead\n",
      "\n",
      "See the caveats in the documentation: https://pandas.pydata.org/pandas-docs/stable/user_guide/indexing.html#returning-a-view-versus-a-copy\n",
      "  data[column_name] = data[column_name].to_numpy().flatten()\n",
      "D:\\Sean\\Miniconda3\\lib\\site-packages\\ctgan\\data_transformer.py:111: SettingWithCopyWarning: \n",
      "A value is trying to be set on a copy of a slice from a DataFrame.\n",
      "Try using .loc[row_indexer,col_indexer] = value instead\n",
      "\n",
      "See the caveats in the documentation: https://pandas.pydata.org/pandas-docs/stable/user_guide/indexing.html#returning-a-view-versus-a-copy\n",
      "  data[column_name] = data[column_name].to_numpy().flatten()\n",
      "D:\\Sean\\Miniconda3\\lib\\site-packages\\ctgan\\data_transformer.py:111: SettingWithCopyWarning: \n",
      "A value is trying to be set on a copy of a slice from a DataFrame.\n",
      "Try using .loc[row_indexer,col_indexer] = value instead\n",
      "\n",
      "See the caveats in the documentation: https://pandas.pydata.org/pandas-docs/stable/user_guide/indexing.html#returning-a-view-versus-a-copy\n",
      "  data[column_name] = data[column_name].to_numpy().flatten()\n",
      "D:\\Sean\\Miniconda3\\lib\\site-packages\\ctgan\\data_transformer.py:111: SettingWithCopyWarning: \n",
      "A value is trying to be set on a copy of a slice from a DataFrame.\n",
      "Try using .loc[row_indexer,col_indexer] = value instead\n",
      "\n",
      "See the caveats in the documentation: https://pandas.pydata.org/pandas-docs/stable/user_guide/indexing.html#returning-a-view-versus-a-copy\n",
      "  data[column_name] = data[column_name].to_numpy().flatten()\n",
      "D:\\Sean\\Miniconda3\\lib\\site-packages\\ctgan\\data_transformer.py:111: SettingWithCopyWarning: \n",
      "A value is trying to be set on a copy of a slice from a DataFrame.\n",
      "Try using .loc[row_indexer,col_indexer] = value instead\n",
      "\n",
      "See the caveats in the documentation: https://pandas.pydata.org/pandas-docs/stable/user_guide/indexing.html#returning-a-view-versus-a-copy\n",
      "  data[column_name] = data[column_name].to_numpy().flatten()\n",
      "D:\\Sean\\Miniconda3\\lib\\site-packages\\ctgan\\data_transformer.py:111: SettingWithCopyWarning: \n",
      "A value is trying to be set on a copy of a slice from a DataFrame.\n",
      "Try using .loc[row_indexer,col_indexer] = value instead\n",
      "\n",
      "See the caveats in the documentation: https://pandas.pydata.org/pandas-docs/stable/user_guide/indexing.html#returning-a-view-versus-a-copy\n",
      "  data[column_name] = data[column_name].to_numpy().flatten()\n"
     ]
    },
    {
     "name": "stdout",
     "output_type": "stream",
     "text": [
      "Epoch 1, Loss G: -0.0237,Loss D: -0.1782\n",
      "Epoch 2, Loss G: -1.6212,Loss D:  0.0028\n",
      "Epoch 3, Loss G: -1.9769,Loss D:  0.0079\n"
     ]
    },
    {
     "name": "stderr",
     "output_type": "stream",
     "text": [
      "C:\\Windows\\Temp\\ipykernel_19312\\1085924413.py:105: FutureWarning: The frame.append method is deprecated and will be removed from pandas in a future version. Use pandas.concat instead.\n",
      "  distruex_final = pd.DataFrame(output_true_upsampled_x).append(pd.DataFrame(output_noise_x),ignore_index = True).to_numpy()\n",
      "C:\\Windows\\Temp\\ipykernel_19312\\1085924413.py:106: FutureWarning: The frame.append method is deprecated and will be removed from pandas in a future version. Use pandas.concat instead.\n",
      "  distruey_final = pd.DataFrame(output_true_upsampled_y).append(pd.DataFrame(output_noise_y),ignore_index = True).to_numpy()\n"
     ]
    },
    {
     "name": "stdout",
     "output_type": "stream",
     "text": [
      "Final True Discriminant Accuracy: 0.578\n"
     ]
    }
   ],
   "source": [
    "#for i in range(0,5):\n",
    "#    findisc = RandomForestClassifier(random_state = 42)\n",
    "#    gan = CTGANSynthesizer(epochs = 50, verbose = True, cuda = True)\n",
    "#    train(findisc,gan,output_model_noise,output_model_true)\n",
    "    \n",
    "findisc = discriminatortrue(output_model_true.shape[1])\n",
    "gan = CTGANSynthesizer(epochs = 3, verbose = True, cuda = True)\n",
    "train(findisc,gan,output_model_noise,output_model_true)"
   ]
  },
  {
   "cell_type": "code",
   "execution_count": 10,
   "id": "ca8b2068",
   "metadata": {},
   "outputs": [
    {
     "data": {
      "image/png": "[encoded data removed]",
      "text/plain": [
       "<Figure size 432x288 with 1 Axes>"
      ]
     },
     "metadata": {
      "needs_background": "light"
     },
     "output_type": "display_data"
    },
    {
     "data": {
      "image/png": "[encoded data removed]",
      "text/plain": [
       "<Figure size 432x288 with 1 Axes>"
      ]
     },
     "metadata": {
      "needs_background": "light"
     },
     "output_type": "display_data"
    }
   ],
   "source": [
    "fake = gan.sample(output_model_true.shape[0])\n",
    "comparenoise = output_model_noise.flatten()\n",
    "comparetrue = output_model_true.flatten()\n",
    "comparefake = fake.flatten()\n",
    "sns.kdeplot(comparenoise)\n",
    "sns.kdeplot(comparetrue)\n",
    "plt.legend(labels = ['comparenoise','comparetrue'])\n",
    "plt.show()\n",
    "sns.kdeplot(comparefake)\n",
    "plt.legend(labels = 'comparefake')\n",
    "plt.show()"
   ]
  },
  {
   "cell_type": "code",
   "execution_count": 11,
   "id": "d92a0c50",
   "metadata": {},
   "outputs": [
    {
     "data": {
      "text/plain": [
       "Ttest_indResult(statistic=74.04634983101397, pvalue=0.0)"
      ]
     },
     "execution_count": 11,
     "metadata": {},
     "output_type": "execute_result"
    }
   ],
   "source": [
    "from scipy.stats import ttest_ind\n",
    "\n",
    "ttest_ind(comparetrue,comparefake)"
   ]
  },
  {
   "cell_type": "code",
   "execution_count": 12,
   "id": "603b9ebf",
   "metadata": {},
   "outputs": [
    {
     "data": {
      "text/plain": [
       "<matplotlib.legend.Legend at 0x25faa007760>"
      ]
     },
     "execution_count": 12,
     "metadata": {},
     "output_type": "execute_result"
    },
    {
     "data": {
      "image/png": "[encoded data removed]",
      "text/plain": [
       "<Figure size 432x288 with 1 Axes>"
      ]
     },
     "metadata": {
      "needs_background": "light"
     },
     "output_type": "display_data"
    }
   ],
   "source": [
    "sns.kdeplot(comparetrue)\n",
    "sns.kdeplot(comparefake)\n",
    "plt.legend(labels = ['comparetrue','comparefake'])"
   ]
  },
  {
   "cell_type": "code",
   "execution_count": null,
   "id": "9c48a49f",
   "metadata": {},
   "outputs": [],
   "source": []
  }
 ],
 "metadata": {
  "kernelspec": {
   "display_name": "Python 3 (ipykernel)",
   "language": "python",
   "name": "python3"
  },
  "language_info": {
   "codemirror_mode": {
    "name": "ipython",
    "version": 3
   },
   "file_extension": ".py",
   "mimetype": "text/x-python",
   "name": "python",
   "nbconvert_exporter": "python",
   "pygments_lexer": "ipython3",
   "version": "3.9.12"
  }
 },
 "nbformat": 4,
 "nbformat_minor": 5
}
