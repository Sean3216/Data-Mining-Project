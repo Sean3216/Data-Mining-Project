{
 "cells": [
  {
   "cell_type": "code",
   "execution_count": 1,
   "id": "7a66ba4b",
   "metadata": {},
   "outputs": [
    {
     "name": "stderr",
     "output_type": "stream",
     "text": [
      "D:\\Sean\\Miniconda3\\lib\\site-packages\\tqdm\\auto.py:22: TqdmWarning: IProgress not found. Please update jupyter and ipywidgets. See https://ipywidgets.readthedocs.io/en/stable/user_install.html\n",
      "  from .autonotebook import tqdm as notebook_tqdm\n"
     ]
    }
   ],
   "source": [
    "import tensorflow as tf\n",
    "import pandas as pd\n",
    "import numpy as np\n",
    "import tensorflow_privacy\n",
    "import matplotlib.pyplot as plt\n",
    "import seaborn as sns\n",
    "from tensorflow_privacy.privacy.analysis import compute_dp_sgd_privacy\n",
    "from tensorflow.keras.regularizers import L1,L2\n",
    "from tensorflow.keras import layers\n",
    "from keras import backend as K\n",
    "from sklearn.ensemble import RandomForestClassifier\n",
    "from sklearn.metrics import accuracy_score\n",
    "tf.random.set_seed(42)\n",
    "\n",
    "from ctgan import CTGANSynthesizer\n",
    "\n",
    "#dirty data\n",
    "import ddu_dirty_mnist\n",
    "import torch"
   ]
  },
  {
   "cell_type": "raw",
   "id": "9ba5bca0",
   "metadata": {},
   "source": [
    "https://github.com/sdv-dev/SDGym/issues/44\n",
    "https://csc.lsu.edu/~saikat/n-mnist/ (MNIST data with noise, we use AWGN)"
   ]
  },
  {
   "cell_type": "code",
   "execution_count": 2,
   "id": "2d9ae4b9",
   "metadata": {},
   "outputs": [],
   "source": [
    "dirty_mnist_train = ddu_dirty_mnist.DirtyMNIST(\".\", train=True, download=True)\n",
    "dirty_mnist_test = ddu_dirty_mnist.DirtyMNIST(\".\", train=False, download=True)\n",
    "len(dirty_mnist_train), len(dirty_mnist_test)\n",
    "\n",
    "dirty_mnist_train_dataloader = torch.utils.data.DataLoader(\n",
    "    dirty_mnist_train,\n",
    "    batch_size = 60000,\n",
    "    shuffle=True,\n",
    "    num_workers=0,\n",
    "    pin_memory=False,\n",
    ")\n",
    "dirty_mnist_test_dataloader = torch.utils.data.DataLoader(\n",
    "    dirty_mnist_test,\n",
    "    batch_size = 10000,\n",
    "    shuffle=False,\n",
    "    num_workers=0,\n",
    "    pin_memory=False,\n",
    ")\n",
    "\n",
    "\n",
    "train_data = next(iter(dirty_mnist_train_dataloader))[0].numpy()\n",
    "train_labels = next(iter(dirty_mnist_train_dataloader))[1].numpy()\n",
    "\n",
    "test_data = next(iter(dirty_mnist_test_dataloader))[0].numpy()\n",
    "test_labels = next(iter(dirty_mnist_test_dataloader))[1].numpy()\n",
    "\n"
   ]
  },
  {
   "cell_type": "markdown",
   "id": "0cc4d6d2",
   "metadata": {},
   "source": [
    "preprocessing not needed because data is already scaled with a standard scaler"
   ]
  },
  {
   "cell_type": "code",
   "execution_count": 3,
   "id": "e338e106",
   "metadata": {},
   "outputs": [],
   "source": [
    "#train_data = np.array(train_data, dtype=np.float32)/255\n",
    "#test_data = np.array(test_data, dtype=np.float32)/255\n",
    "\n",
    "train_data = train_data.reshape(train_data.shape[0],28,28,1) \n",
    "test_data = test_data.reshape(test_data.shape[0],28,28,1)\n",
    "\n",
    "train_labels = np.array(train_labels, dtype = np.int32)\n",
    "test_labels = np.array(test_labels, dtype = np.int32)\n",
    "\n",
    "train_labels = tf.keras.utils.to_categorical(train_labels, num_classes = 10)\n",
    "test_labels = tf.keras.utils.to_categorical(test_labels, num_classes = 10)"
   ]
  },
  {
   "cell_type": "markdown",
   "id": "dc6ad358",
   "metadata": {},
   "source": [
    "## Defining Functions"
   ]
  },
  {
   "cell_type": "code",
   "execution_count": 4,
   "id": "1a2968b0",
   "metadata": {},
   "outputs": [],
   "source": [
    "def dp_sgd(l2_norm_clip,noise_multiplier,num_microbatches,learning_rate):\n",
    "    model = tf.keras.Sequential([\n",
    "        tf.keras.layers.Conv2D(16,8,\n",
    "                              strides = 2,\n",
    "                              padding = 'same',\n",
    "                              activation = 'relu',\n",
    "                              input_shape = (28,28,1)),\n",
    "        tf.keras.layers.MaxPool2D(2,1),\n",
    "        tf.keras.layers.Conv2D(32,4,\n",
    "                               strides = 2,\n",
    "                               padding = 'valid',\n",
    "                               activation = 'relu'),\n",
    "        tf.keras.layers.MaxPool2D(2,1),\n",
    "        tf.keras.layers.Flatten(),\n",
    "        tf.keras.layers.Dense(32, activation = 'relu'),\n",
    "        tf.keras.layers.Dense(10, activation = 'softmax')\n",
    "    ])\n",
    "    \n",
    "    optimizer = tensorflow_privacy.DPKerasSGDOptimizer(\n",
    "        l2_norm_clip = l2_norm_clip,\n",
    "        noise_multiplier = noise_multiplier,\n",
    "        num_microbatches = num_microbatches,\n",
    "        learning_rate = learning_rate)\n",
    "    loss = tf.keras.losses.CategoricalCrossentropy(\n",
    "        from_logits = False, reduction = tf.losses.Reduction.NONE)\n",
    "    model.compile(optimizer = optimizer , loss = loss, metrics = ['accuracy'])\n",
    "    return model\n",
    "\n",
    "def normalmodel():\n",
    "    model = tf.keras.Sequential([\n",
    "        tf.keras.layers.Conv2D(16,8,\n",
    "                              strides = 2,\n",
    "                              padding = 'same',\n",
    "                              activation = 'relu',\n",
    "                              input_shape = (28,28,1)),\n",
    "        tf.keras.layers.MaxPool2D(2,1),\n",
    "        tf.keras.layers.Conv2D(32,4,\n",
    "                               strides = 2,\n",
    "                               padding = 'valid',\n",
    "                               activation = 'relu'),\n",
    "        tf.keras.layers.MaxPool2D(2,1),\n",
    "        tf.keras.layers.Flatten(),\n",
    "        tf.keras.layers.Dense(32, activation = 'relu'),\n",
    "        tf.keras.layers.Dense(10, activation = 'softmax')\n",
    "    ])\n",
    "    \n",
    "    optimizer = tf.keras.optimizers.Adam()\n",
    "    loss = tf.keras.losses.CategoricalCrossentropy(\n",
    "        from_logits = False, reduction = tf.losses.Reduction.NONE)\n",
    "    model.compile(optimizer = optimizer , loss = loss, metrics = ['accuracy'])\n",
    "    return model\n",
    "\n",
    "def getlayeroutput(model,data,index):\n",
    "    from keras import backend as K\n",
    "    getoutput = K.function([model.layers[0].input],[model.layers[index].output])\n",
    "    return getoutput([data])[0]\n",
    "\n",
    "def discriminatortrue(in_shape):\n",
    "    model = tf.keras.Sequential([\n",
    "        tf.keras.layers.Dense(20,input_dim = in_shape,\n",
    "                              activation = 'linear'),\n",
    "        tf.keras.layers.Dense(30,activation = 'relu'),\n",
    "        tf.keras.layers.Dropout(0.6),\n",
    "        tf.keras.layers.Dense(10,activation = 'linear'),\n",
    "        tf.keras.layers.Dropout(0.6),\n",
    "        tf.keras.layers.Dense(1,activation = 'sigmoid')\n",
    "    ])\n",
    "    optimizer = tf.keras.optimizers.SGD()\n",
    "    model.compile(loss = 'binary_crossentropy', optimizer = optimizer,\n",
    "                 metrics = 'accuracy')\n",
    "    return model\n",
    "\n",
    "\n",
    "def train(distrue, gan, output_noise, output_true):\n",
    "    \n",
    "    ### HUGE NOTE: Normalmodel is 1, DPmodel is 0\n",
    "    \n",
    "    #train the true discriminator to the DPmodel and Normalmodel data\n",
    "    distrue_output_true_train_x = output_true[:] #setting x data from normalmodel for true discriminant\n",
    "    distrue_output_true_train_y = np.ones((output_true.shape[0],1)) #setting y data from normalmodel for true discriminant\n",
    "    \n",
    "    distrue_output_noise_train_x = output_noise[:] #setting x data from DPmodel for true discriminant\n",
    "    distrue_output_noise_train_y = np.zeros((output_noise.shape[0],1)) #setting y data from DPmodel for true discriminant\n",
    "    \n",
    "    #combine\n",
    "    distruex = pd.DataFrame(distrue_output_true_train_x).append(pd.DataFrame(distrue_output_noise_train_x),ignore_index = True).to_numpy()\n",
    "    distruey = pd.DataFrame(distrue_output_true_train_y).append(pd.DataFrame(distrue_output_noise_train_y),ignore_index = True).to_numpy()\n",
    "    \n",
    "    #shuffle\n",
    "    distruex_shuffle, distruey_shuffle = shuffledata(distruex,distruey)\n",
    "    distrue.fit(distruex_shuffle,distruey_shuffle)\n",
    "    \n",
    "    #Initiate GAN\n",
    "    ###########################################################################################################      \n",
    "    ##GAN PART\n",
    "    gan.fit(output_true)\n",
    "    fake = gan.sample(output_true.shape[0])\n",
    "    ########################################################################################################### \n",
    "    #final accuracy of True Discriminant\n",
    "    output_true_upsampled_x = fake[:]\n",
    "    output_true_upsampled_y = np.ones((output_true_upsampled_x.shape[0],1))\n",
    "    \n",
    "    output_noise_x, output_noise_y = output_noise[:], np.zeros((output_noise.shape[0],1))\n",
    "    \n",
    "    distruex_final = pd.DataFrame(output_true_upsampled_x).append(pd.DataFrame(output_noise_x),ignore_index = True).to_numpy()\n",
    "    distruey_final = pd.DataFrame(output_true_upsampled_y).append(pd.DataFrame(output_noise_y),ignore_index = True).to_numpy()\n",
    "    \n",
    "    #shuffle\n",
    "    distruex_final_shuffle, distruey_final_shuffle = shuffledata(distruex_final,distruey_final)\n",
    "    pred = distrue.predict(distruex_final_shuffle)  \n",
    "\n",
    "    fin_acc = accuracy_score(np.array(distruey_final_shuffle), pred)\n",
    "    print(\"Final True Discriminant Accuracy: %.3f\" % fin_acc)\n",
    "    \n",
    "\n",
    "def shuffledata(xdata,ydata):\n",
    "    indices = tf.range(start=0,limit=tf.shape(xdata)[0], dtype = tf.int32)\n",
    "    idx = tf.random.shuffle(indices)\n",
    "    return tf.gather(xdata,idx) , tf.gather(ydata,idx)"
   ]
  },
  {
   "cell_type": "markdown",
   "id": "ad64c14f",
   "metadata": {},
   "source": [
    "## Training Original Model "
   ]
  },
  {
   "cell_type": "markdown",
   "id": "50f5ca23",
   "metadata": {},
   "source": [
    "##### DPmodel & Normalmodel"
   ]
  },
  {
   "cell_type": "code",
   "execution_count": 5,
   "id": "b45a8a3c",
   "metadata": {},
   "outputs": [
    {
     "name": "stdout",
     "output_type": "stream",
     "text": [
      "Epoch 1/5\n",
      "240/240 [==============================] - 29s 102ms/step - loss: 2.2993 - accuracy: 0.1314 - val_loss: 2.3149 - val_accuracy: 0.0991\n",
      "Epoch 2/5\n",
      "240/240 [==============================] - 25s 106ms/step - loss: 2.3087 - accuracy: 0.1354 - val_loss: 2.3638 - val_accuracy: 0.1000\n",
      "Epoch 3/5\n",
      "240/240 [==============================] - 26s 107ms/step - loss: 2.2896 - accuracy: 0.1372 - val_loss: 2.3231 - val_accuracy: 0.1032\n",
      "Epoch 4/5\n",
      "240/240 [==============================] - 24s 102ms/step - loss: 2.2884 - accuracy: 0.1381 - val_loss: 2.3264 - val_accuracy: 0.1023\n",
      "Epoch 5/5\n",
      "240/240 [==============================] - 24s 102ms/step - loss: 2.2903 - accuracy: 0.1380 - val_loss: 2.3342 - val_accuracy: 0.1009\n",
      "Epoch 1/5\n",
      "240/240 [==============================] - 2s 8ms/step - loss: 2.2831 - accuracy: 0.1344 - val_loss: 2.3148 - val_accuracy: 0.1033\n",
      "Epoch 2/5\n",
      "240/240 [==============================] - 2s 10ms/step - loss: 2.2805 - accuracy: 0.1373 - val_loss: 2.3100 - val_accuracy: 0.1019\n",
      "Epoch 3/5\n",
      "240/240 [==============================] - 2s 8ms/step - loss: 2.2797 - accuracy: 0.1378 - val_loss: 2.3116 - val_accuracy: 0.1010\n",
      "Epoch 4/5\n",
      "240/240 [==============================] - 2s 9ms/step - loss: 2.2792 - accuracy: 0.1379 - val_loss: 2.3306 - val_accuracy: 0.1009\n",
      "Epoch 5/5\n",
      "240/240 [==============================] - 2s 10ms/step - loss: 2.2789 - accuracy: 0.1381 - val_loss: 2.3132 - val_accuracy: 0.0985\n"
     ]
    },
    {
     "data": {
      "text/plain": [
       "<keras.callbacks.History at 0x1cd002171c0>"
      ]
     },
     "execution_count": 5,
     "metadata": {},
     "output_type": "execute_result"
    }
   ],
   "source": [
    "DPmodel = dp_sgd(l2_norm_clip = 1.5, noise_multiplier = 1, \n",
    "                 num_microbatches = 50, learning_rate = 0.25)\n",
    "Normalmodel = normalmodel()\n",
    "\n",
    "DPmodel.fit(train_data, train_labels, \n",
    "            epochs = 5, batch_size = 250,\n",
    "            validation_data = (test_data, test_labels))\n",
    "\n",
    "Normalmodel.fit(train_data, train_labels, \n",
    "                epochs = 5, batch_size = 250,\n",
    "                validation_data = (test_data, test_labels))"
   ]
  },
  {
   "cell_type": "markdown",
   "id": "e3e61a36",
   "metadata": {},
   "source": [
    "##### DP Model Privacy"
   ]
  },
  {
   "cell_type": "code",
   "execution_count": 6,
   "id": "34123ba8",
   "metadata": {},
   "outputs": [
    {
     "name": "stdout",
     "output_type": "stream",
     "text": [
      "DP-SGD with sampling rate = 0.417% and noise_multiplier = 1 iterated over 1200 steps satisfies differential privacy with eps = 1.13 and delta = 1e-05.\n",
      "The optimal RDP order is 10.0.\n"
     ]
    },
    {
     "data": {
      "text/plain": [
       "(1.1278495014370558, 10.0)"
      ]
     },
     "execution_count": 6,
     "metadata": {},
     "output_type": "execute_result"
    }
   ],
   "source": [
    "compute_dp_sgd_privacy.compute_dp_sgd_privacy(n=train_data.shape[0],\n",
    "                                              batch_size=250,\n",
    "                                              noise_multiplier=1,\n",
    "                                              epochs=5,\n",
    "                                              delta=1e-5)"
   ]
  },
  {
   "cell_type": "markdown",
   "id": "bfd56969",
   "metadata": {},
   "source": [
    "##### Normal Model Privacy"
   ]
  },
  {
   "cell_type": "code",
   "execution_count": 7,
   "id": "890c6f28",
   "metadata": {},
   "outputs": [],
   "source": [
    "#compute_dp_sgd_privacy.compute_dp_sgd_privacy(n=train_data.shape[0],\n",
    "#                                              batch_size=250,\n",
    "#                                              noise_multiplier=0.1,\n",
    "#                                              epochs=5,\n",
    "#                                              delta=1e-5)"
   ]
  },
  {
   "cell_type": "markdown",
   "id": "98d6f7cc",
   "metadata": {},
   "source": [
    "## Proceed with GAN"
   ]
  },
  {
   "cell_type": "code",
   "execution_count": 8,
   "id": "c5f2e1ac",
   "metadata": {},
   "outputs": [
    {
     "name": "stdout",
     "output_type": "stream",
     "text": [
      "1875/1875 [==============================] - 5s 3ms/step\n",
      "1875/1875 [==============================] - 5s 3ms/step\n"
     ]
    }
   ],
   "source": [
    "output_model_noise = DPmodel.predict(train_data)\n",
    "output_model_true = Normalmodel.predict(train_data)"
   ]
  },
  {
   "cell_type": "code",
   "execution_count": 9,
   "id": "ae73ec14",
   "metadata": {
    "scrolled": false
   },
   "outputs": [
    {
     "name": "stderr",
     "output_type": "stream",
     "text": [
      "C:\\Windows\\Temp\\ipykernel_12636\\300499000.py:86: FutureWarning: The frame.append method is deprecated and will be removed from pandas in a future version. Use pandas.concat instead.\n",
      "  distruex = pd.DataFrame(distrue_output_true_train_x).append(pd.DataFrame(distrue_output_noise_train_x),ignore_index = True).to_numpy()\n",
      "C:\\Windows\\Temp\\ipykernel_12636\\300499000.py:87: FutureWarning: The frame.append method is deprecated and will be removed from pandas in a future version. Use pandas.concat instead.\n",
      "  distruey = pd.DataFrame(distrue_output_true_train_y).append(pd.DataFrame(distrue_output_noise_train_y),ignore_index = True).to_numpy()\n",
      "C:\\Windows\\Temp\\ipykernel_12636\\300499000.py:91: DataConversionWarning: A column-vector y was passed when a 1d array was expected. Please change the shape of y to (n_samples,), for example using ravel().\n",
      "  distrue.fit(distruex_shuffle,distruey_shuffle)\n",
      "D:\\Sean\\Miniconda3\\lib\\site-packages\\sklearn\\mixture\\_base.py:277: ConvergenceWarning: Initialization 1 did not converge. Try different init parameters, or increase max_iter, tol or check for degenerate data.\n",
      "  warnings.warn(\n",
      "D:\\Sean\\Miniconda3\\lib\\site-packages\\sklearn\\mixture\\_base.py:277: ConvergenceWarning: Initialization 1 did not converge. Try different init parameters, or increase max_iter, tol or check for degenerate data.\n",
      "  warnings.warn(\n",
      "D:\\Sean\\Miniconda3\\lib\\site-packages\\sklearn\\mixture\\_base.py:277: ConvergenceWarning: Initialization 1 did not converge. Try different init parameters, or increase max_iter, tol or check for degenerate data.\n",
      "  warnings.warn(\n",
      "D:\\Sean\\Miniconda3\\lib\\site-packages\\sklearn\\mixture\\_base.py:277: ConvergenceWarning: Initialization 1 did not converge. Try different init parameters, or increase max_iter, tol or check for degenerate data.\n",
      "  warnings.warn(\n",
      "D:\\Sean\\Miniconda3\\lib\\site-packages\\sklearn\\mixture\\_base.py:277: ConvergenceWarning: Initialization 1 did not converge. Try different init parameters, or increase max_iter, tol or check for degenerate data.\n",
      "  warnings.warn(\n",
      "D:\\Sean\\Miniconda3\\lib\\site-packages\\sklearn\\mixture\\_base.py:277: ConvergenceWarning: Initialization 1 did not converge. Try different init parameters, or increase max_iter, tol or check for degenerate data.\n",
      "  warnings.warn(\n",
      "D:\\Sean\\Miniconda3\\lib\\site-packages\\sklearn\\mixture\\_base.py:277: ConvergenceWarning: Initialization 1 did not converge. Try different init parameters, or increase max_iter, tol or check for degenerate data.\n",
      "  warnings.warn(\n",
      "D:\\Sean\\Miniconda3\\lib\\site-packages\\sklearn\\mixture\\_base.py:277: ConvergenceWarning: Initialization 1 did not converge. Try different init parameters, or increase max_iter, tol or check for degenerate data.\n",
      "  warnings.warn(\n",
      "D:\\Sean\\Miniconda3\\lib\\site-packages\\sklearn\\mixture\\_base.py:277: ConvergenceWarning: Initialization 1 did not converge. Try different init parameters, or increase max_iter, tol or check for degenerate data.\n",
      "  warnings.warn(\n",
      "D:\\Sean\\Miniconda3\\lib\\site-packages\\ctgan\\data_transformer.py:111: SettingWithCopyWarning: \n",
      "A value is trying to be set on a copy of a slice from a DataFrame.\n",
      "Try using .loc[row_indexer,col_indexer] = value instead\n",
      "\n",
      "See the caveats in the documentation: https://pandas.pydata.org/pandas-docs/stable/user_guide/indexing.html#returning-a-view-versus-a-copy\n",
      "  data[column_name] = data[column_name].to_numpy().flatten()\n",
      "D:\\Sean\\Miniconda3\\lib\\site-packages\\ctgan\\data_transformer.py:111: SettingWithCopyWarning: \n",
      "A value is trying to be set on a copy of a slice from a DataFrame.\n",
      "Try using .loc[row_indexer,col_indexer] = value instead\n",
      "\n",
      "See the caveats in the documentation: https://pandas.pydata.org/pandas-docs/stable/user_guide/indexing.html#returning-a-view-versus-a-copy\n",
      "  data[column_name] = data[column_name].to_numpy().flatten()\n",
      "D:\\Sean\\Miniconda3\\lib\\site-packages\\ctgan\\data_transformer.py:111: SettingWithCopyWarning: \n",
      "A value is trying to be set on a copy of a slice from a DataFrame.\n",
      "Try using .loc[row_indexer,col_indexer] = value instead\n",
      "\n",
      "See the caveats in the documentation: https://pandas.pydata.org/pandas-docs/stable/user_guide/indexing.html#returning-a-view-versus-a-copy\n",
      "  data[column_name] = data[column_name].to_numpy().flatten()\n",
      "D:\\Sean\\Miniconda3\\lib\\site-packages\\ctgan\\data_transformer.py:111: SettingWithCopyWarning: \n",
      "A value is trying to be set on a copy of a slice from a DataFrame.\n",
      "Try using .loc[row_indexer,col_indexer] = value instead\n",
      "\n",
      "See the caveats in the documentation: https://pandas.pydata.org/pandas-docs/stable/user_guide/indexing.html#returning-a-view-versus-a-copy\n",
      "  data[column_name] = data[column_name].to_numpy().flatten()\n",
      "D:\\Sean\\Miniconda3\\lib\\site-packages\\ctgan\\data_transformer.py:111: SettingWithCopyWarning: \n",
      "A value is trying to be set on a copy of a slice from a DataFrame.\n",
      "Try using .loc[row_indexer,col_indexer] = value instead\n",
      "\n",
      "See the caveats in the documentation: https://pandas.pydata.org/pandas-docs/stable/user_guide/indexing.html#returning-a-view-versus-a-copy\n",
      "  data[column_name] = data[column_name].to_numpy().flatten()\n",
      "D:\\Sean\\Miniconda3\\lib\\site-packages\\ctgan\\data_transformer.py:111: SettingWithCopyWarning: \n",
      "A value is trying to be set on a copy of a slice from a DataFrame.\n",
      "Try using .loc[row_indexer,col_indexer] = value instead\n",
      "\n",
      "See the caveats in the documentation: https://pandas.pydata.org/pandas-docs/stable/user_guide/indexing.html#returning-a-view-versus-a-copy\n",
      "  data[column_name] = data[column_name].to_numpy().flatten()\n",
      "D:\\Sean\\Miniconda3\\lib\\site-packages\\ctgan\\data_transformer.py:111: SettingWithCopyWarning: \n",
      "A value is trying to be set on a copy of a slice from a DataFrame.\n",
      "Try using .loc[row_indexer,col_indexer] = value instead\n",
      "\n",
      "See the caveats in the documentation: https://pandas.pydata.org/pandas-docs/stable/user_guide/indexing.html#returning-a-view-versus-a-copy\n",
      "  data[column_name] = data[column_name].to_numpy().flatten()\n",
      "D:\\Sean\\Miniconda3\\lib\\site-packages\\ctgan\\data_transformer.py:111: SettingWithCopyWarning: \n",
      "A value is trying to be set on a copy of a slice from a DataFrame.\n",
      "Try using .loc[row_indexer,col_indexer] = value instead\n",
      "\n",
      "See the caveats in the documentation: https://pandas.pydata.org/pandas-docs/stable/user_guide/indexing.html#returning-a-view-versus-a-copy\n",
      "  data[column_name] = data[column_name].to_numpy().flatten()\n",
      "D:\\Sean\\Miniconda3\\lib\\site-packages\\ctgan\\data_transformer.py:111: SettingWithCopyWarning: \n",
      "A value is trying to be set on a copy of a slice from a DataFrame.\n",
      "Try using .loc[row_indexer,col_indexer] = value instead\n",
      "\n",
      "See the caveats in the documentation: https://pandas.pydata.org/pandas-docs/stable/user_guide/indexing.html#returning-a-view-versus-a-copy\n",
      "  data[column_name] = data[column_name].to_numpy().flatten()\n",
      "D:\\Sean\\Miniconda3\\lib\\site-packages\\ctgan\\data_transformer.py:111: SettingWithCopyWarning: \n",
      "A value is trying to be set on a copy of a slice from a DataFrame.\n",
      "Try using .loc[row_indexer,col_indexer] = value instead\n",
      "\n",
      "See the caveats in the documentation: https://pandas.pydata.org/pandas-docs/stable/user_guide/indexing.html#returning-a-view-versus-a-copy\n",
      "  data[column_name] = data[column_name].to_numpy().flatten()\n"
     ]
    },
    {
     "name": "stdout",
     "output_type": "stream",
     "text": [
      "Epoch 1, Loss G: -1.5132,Loss D:  0.2812\n",
      "Epoch 2, Loss G: -1.7551,Loss D:  0.0489\n",
      "Epoch 3, Loss G: -1.9457,Loss D:  0.0104\n",
      "Epoch 4, Loss G: -2.2937,Loss D:  0.0040\n",
      "Epoch 5, Loss G: -2.4760,Loss D:  0.0728\n",
      "Epoch 6, Loss G: -2.6802,Loss D: -0.0293\n",
      "Epoch 7, Loss G: -2.7634,Loss D: -0.0124\n",
      "Epoch 8, Loss G: -2.9952,Loss D:  0.0699\n",
      "Epoch 9, Loss G: -2.9988,Loss D: -0.0203\n",
      "Epoch 10, Loss G: -2.9975,Loss D:  0.1154\n",
      "Epoch 11, Loss G: -3.0563,Loss D: -0.1533\n",
      "Epoch 12, Loss G: -3.0504,Loss D: -0.1358\n",
      "Epoch 13, Loss G: -3.0521,Loss D:  0.0604\n",
      "Epoch 14, Loss G: -3.4035,Loss D:  0.1291\n",
      "Epoch 15, Loss G: -3.2367,Loss D:  0.0537\n",
      "Epoch 16, Loss G: -3.3444,Loss D:  0.1008\n",
      "Epoch 17, Loss G: -3.4342,Loss D: -0.0846\n",
      "Epoch 18, Loss G: -3.2723,Loss D: -0.0898\n",
      "Epoch 19, Loss G: -3.3767,Loss D: -0.0891\n",
      "Epoch 20, Loss G: -3.3793,Loss D:  0.0157\n",
      "Epoch 21, Loss G: -3.3155,Loss D: -0.0384\n",
      "Epoch 22, Loss G: -3.3393,Loss D: -0.0816\n",
      "Epoch 23, Loss G: -3.4194,Loss D:  0.0756\n",
      "Epoch 24, Loss G: -3.5553,Loss D:  0.0420\n",
      "Epoch 25, Loss G: -3.5651,Loss D:  0.0299\n",
      "Epoch 26, Loss G: -3.5010,Loss D:  0.0460\n",
      "Epoch 27, Loss G: -3.5038,Loss D:  0.0754\n",
      "Epoch 28, Loss G: -3.5533,Loss D:  0.0569\n",
      "Epoch 29, Loss G: -3.6549,Loss D:  0.0634\n",
      "Epoch 30, Loss G: -3.4744,Loss D: -0.0779\n",
      "Epoch 31, Loss G: -3.6317,Loss D:  0.1327\n",
      "Epoch 32, Loss G: -3.4102,Loss D:  0.0583\n",
      "Epoch 33, Loss G: -3.4679,Loss D: -0.0918\n",
      "Epoch 34, Loss G: -3.4191,Loss D:  0.0698\n",
      "Epoch 35, Loss G: -3.5746,Loss D:  0.0374\n",
      "Epoch 36, Loss G: -3.6080,Loss D: -0.0230\n",
      "Epoch 37, Loss G: -3.5445,Loss D:  0.0473\n",
      "Epoch 38, Loss G: -3.6327,Loss D:  0.0975\n",
      "Epoch 39, Loss G: -3.4733,Loss D: -0.0866\n",
      "Epoch 40, Loss G: -3.6556,Loss D:  0.0001\n",
      "Epoch 41, Loss G: -3.6745,Loss D: -0.0704\n",
      "Epoch 42, Loss G: -3.5885,Loss D: -0.1572\n",
      "Epoch 43, Loss G: -3.5756,Loss D: -0.0320\n",
      "Epoch 44, Loss G: -3.3958,Loss D:  0.0126\n",
      "Epoch 45, Loss G: -3.4772,Loss D:  0.0278\n",
      "Epoch 46, Loss G: -3.5558,Loss D:  0.0015\n",
      "Epoch 47, Loss G: -3.7119,Loss D: -0.0463\n",
      "Epoch 48, Loss G: -3.5312,Loss D:  0.0411\n",
      "Epoch 49, Loss G: -3.6010,Loss D: -0.0554\n",
      "Epoch 50, Loss G: -3.6153,Loss D:  0.0032\n"
     ]
    },
    {
     "name": "stderr",
     "output_type": "stream",
     "text": [
      "C:\\Windows\\Temp\\ipykernel_12636\\300499000.py:105: FutureWarning: The frame.append method is deprecated and will be removed from pandas in a future version. Use pandas.concat instead.\n",
      "  distruex_final = pd.DataFrame(output_true_upsampled_x).append(pd.DataFrame(output_noise_x),ignore_index = True).to_numpy()\n",
      "C:\\Windows\\Temp\\ipykernel_12636\\300499000.py:106: FutureWarning: The frame.append method is deprecated and will be removed from pandas in a future version. Use pandas.concat instead.\n",
      "  distruey_final = pd.DataFrame(output_true_upsampled_y).append(pd.DataFrame(output_noise_y),ignore_index = True).to_numpy()\n"
     ]
    },
    {
     "name": "stdout",
     "output_type": "stream",
     "text": [
      "Final True Discriminant Accuracy: 1.000\n"
     ]
    }
   ],
   "source": [
    "#for i in range(0,5):\n",
    "#    findisc = RandomForestClassifier(random_state = 42)\n",
    "#    gan = CTGANSynthesizer(epochs = 50, verbose = True, cuda = True)\n",
    "#    train(findisc,gan,output_model_noise,output_model_true)\n",
    "    \n",
    "findisc = RandomForestClassifier(random_state = 42)\n",
    "gan = CTGANSynthesizer(epochs = 50, verbose = True, cuda = True)\n",
    "train(findisc,gan,output_model_noise,output_model_true)"
   ]
  },
  {
   "cell_type": "code",
   "execution_count": 10,
   "id": "ca8b2068",
   "metadata": {},
   "outputs": [
    {
     "data": {
      "image/png": "[encoded data removed]",
      "text/plain": [
       "<Figure size 432x288 with 1 Axes>"
      ]
     },
     "metadata": {
      "needs_background": "light"
     },
     "output_type": "display_data"
    },
    {
     "data": {
      "image/png": "[encoded data removed]",
      "text/plain": [
       "<Figure size 432x288 with 1 Axes>"
      ]
     },
     "metadata": {
      "needs_background": "light"
     },
     "output_type": "display_data"
    }
   ],
   "source": [
    "fake = gan.sample(output_model_true.shape[0])\n",
    "comparenoise = output_model_noise.flatten()\n",
    "comparetrue = output_model_true.flatten()\n",
    "comparefake = fake.flatten()\n",
    "sns.kdeplot(comparenoise)\n",
    "sns.kdeplot(comparetrue)\n",
    "plt.legend(labels = ['comparenoise','comparetrue'])\n",
    "plt.show()\n",
    "sns.kdeplot(comparefake)\n",
    "plt.legend(labels = 'comparefake')\n",
    "plt.show()"
   ]
  },
  {
   "cell_type": "code",
   "execution_count": 11,
   "id": "d92a0c50",
   "metadata": {},
   "outputs": [
    {
     "data": {
      "text/plain": [
       "Ttest_indResult(statistic=3.9863258554640595, pvalue=6.710830363606614e-05)"
      ]
     },
     "execution_count": 11,
     "metadata": {},
     "output_type": "execute_result"
    }
   ],
   "source": [
    "from scipy.stats import ttest_ind\n",
    "\n",
    "ttest_ind(comparetrue,comparefake)"
   ]
  },
  {
   "cell_type": "code",
   "execution_count": 12,
   "id": "603b9ebf",
   "metadata": {},
   "outputs": [
    {
     "data": {
      "text/plain": [
       "<matplotlib.legend.Legend at 0x1cec167c1f0>"
      ]
     },
     "execution_count": 12,
     "metadata": {},
     "output_type": "execute_result"
    },
    {
     "data": {
      "image/png": "[encoded data removed]",
      "text/plain": [
       "<Figure size 432x288 with 1 Axes>"
      ]
     },
     "metadata": {
      "needs_background": "light"
     },
     "output_type": "display_data"
    }
   ],
   "source": [
    "sns.kdeplot(comparetrue)\n",
    "sns.kdeplot(comparefake)\n",
    "plt.legend(labels = ['comparetrue','comparefake'])"
   ]
  },
  {
   "cell_type": "code",
   "execution_count": null,
   "id": "9c48a49f",
   "metadata": {},
   "outputs": [],
   "source": []
  }
 ],
 "metadata": {
  "kernelspec": {
   "display_name": "Python 3 (ipykernel)",
   "language": "python",
   "name": "python3"
  },
  "language_info": {
   "codemirror_mode": {
    "name": "ipython",
    "version": 3
   },
   "file_extension": ".py",
   "mimetype": "text/x-python",
   "name": "python",
   "nbconvert_exporter": "python",
   "pygments_lexer": "ipython3",
   "version": "3.9.12"
  }
 },
 "nbformat": 4,
 "nbformat_minor": 5
}
